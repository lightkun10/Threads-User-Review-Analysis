{
 "cells": [
  {
   "cell_type": "markdown",
   "metadata": {},
   "source": [
    "# Libraries"
   ]
  },
  {
   "cell_type": "code",
   "execution_count": 2,
   "metadata": {},
   "outputs": [],
   "source": [
    "import pandas as pd                     #to perform advanced data analysis, import data quickly\n",
    "import numpy as np                      #to perform arge mahematical operations and statistical operation\n",
    "import matplotlib.pyplot as plt         # to perform simple interactive visualization\n",
    "from datetime import datetime           #to perform manipulating dates and times\n",
    "import seaborn as sns                   #to perform visualization with many color palettes, beatiful style and many statistical plots"
   ]
  },
  {
   "cell_type": "code",
   "execution_count": 3,
   "metadata": {},
   "outputs": [
    {
     "data": {
      "text/html": [
       "<div>\n",
       "<style scoped>\n",
       "    .dataframe tbody tr th:only-of-type {\n",
       "        vertical-align: middle;\n",
       "    }\n",
       "\n",
       "    .dataframe tbody tr th {\n",
       "        vertical-align: top;\n",
       "    }\n",
       "\n",
       "    .dataframe thead th {\n",
       "        text-align: right;\n",
       "    }\n",
       "</style>\n",
       "<table border=\"1\" class=\"dataframe\">\n",
       "  <thead>\n",
       "    <tr style=\"text-align: right;\">\n",
       "      <th></th>\n",
       "      <th>source</th>\n",
       "      <th>review_description</th>\n",
       "      <th>rating</th>\n",
       "      <th>review_date</th>\n",
       "    </tr>\n",
       "  </thead>\n",
       "  <tbody>\n",
       "    <tr>\n",
       "      <th>0</th>\n",
       "      <td>Google Play</td>\n",
       "      <td>Meh. Not the greatest experience on a Chromebo...</td>\n",
       "      <td>2</td>\n",
       "      <td>2023-07-08 14:18:24</td>\n",
       "    </tr>\n",
       "    <tr>\n",
       "      <th>1</th>\n",
       "      <td>Google Play</td>\n",
       "      <td>Pretty good for a first launch!! Its easy to u...</td>\n",
       "      <td>3</td>\n",
       "      <td>2023-07-19 20:52:48</td>\n",
       "    </tr>\n",
       "    <tr>\n",
       "      <th>2</th>\n",
       "      <td>Google Play</td>\n",
       "      <td>For a brand new app, it's very well optimized....</td>\n",
       "      <td>3</td>\n",
       "      <td>2023-07-06 23:03:11</td>\n",
       "    </tr>\n",
       "    <tr>\n",
       "      <th>3</th>\n",
       "      <td>Google Play</td>\n",
       "      <td>Great app with a lot of potential! However, th...</td>\n",
       "      <td>3</td>\n",
       "      <td>2023-07-10 00:53:25</td>\n",
       "    </tr>\n",
       "    <tr>\n",
       "      <th>4</th>\n",
       "      <td>Google Play</td>\n",
       "      <td>The app is good, but it needs a lot of functio...</td>\n",
       "      <td>3</td>\n",
       "      <td>2023-07-06 16:57:43</td>\n",
       "    </tr>\n",
       "    <tr>\n",
       "      <th>...</th>\n",
       "      <td>...</td>\n",
       "      <td>...</td>\n",
       "      <td>...</td>\n",
       "      <td>...</td>\n",
       "    </tr>\n",
       "    <tr>\n",
       "      <th>32905</th>\n",
       "      <td>App Store</td>\n",
       "      <td>This killed my dog. Mark zuckerburg strangled ...</td>\n",
       "      <td>1</td>\n",
       "      <td>2023-07-06 01:23:55</td>\n",
       "    </tr>\n",
       "    <tr>\n",
       "      <th>32906</th>\n",
       "      <td>App Store</td>\n",
       "      <td>Add Search and hashtag like Twitter !</td>\n",
       "      <td>1</td>\n",
       "      <td>2023-07-19 08:01:06</td>\n",
       "    </tr>\n",
       "    <tr>\n",
       "      <th>32907</th>\n",
       "      <td>App Store</td>\n",
       "      <td>bad twister</td>\n",
       "      <td>1</td>\n",
       "      <td>2023-07-17 06:39:13</td>\n",
       "    </tr>\n",
       "    <tr>\n",
       "      <th>32908</th>\n",
       "      <td>App Store</td>\n",
       "      <td>Yet another trash from Meta.</td>\n",
       "      <td>1</td>\n",
       "      <td>2023-07-07 17:47:16</td>\n",
       "    </tr>\n",
       "    <tr>\n",
       "      <th>32909</th>\n",
       "      <td>App Store</td>\n",
       "      <td>Nothing special this app is just a copy of twi...</td>\n",
       "      <td>1</td>\n",
       "      <td>2023-07-07 07:01:43</td>\n",
       "    </tr>\n",
       "  </tbody>\n",
       "</table>\n",
       "<p>32910 rows × 4 columns</p>\n",
       "</div>"
      ],
      "text/plain": [
       "            source                                 review_description  rating  \\\n",
       "0      Google Play  Meh. Not the greatest experience on a Chromebo...       2   \n",
       "1      Google Play  Pretty good for a first launch!! Its easy to u...       3   \n",
       "2      Google Play  For a brand new app, it's very well optimized....       3   \n",
       "3      Google Play  Great app with a lot of potential! However, th...       3   \n",
       "4      Google Play  The app is good, but it needs a lot of functio...       3   \n",
       "...            ...                                                ...     ...   \n",
       "32905    App Store  This killed my dog. Mark zuckerburg strangled ...       1   \n",
       "32906    App Store              Add Search and hashtag like Twitter !       1   \n",
       "32907    App Store                                        bad twister       1   \n",
       "32908    App Store                       Yet another trash from Meta.       1   \n",
       "32909    App Store  Nothing special this app is just a copy of twi...       1   \n",
       "\n",
       "               review_date  \n",
       "0      2023-07-08 14:18:24  \n",
       "1      2023-07-19 20:52:48  \n",
       "2      2023-07-06 23:03:11  \n",
       "3      2023-07-10 00:53:25  \n",
       "4      2023-07-06 16:57:43  \n",
       "...                    ...  \n",
       "32905  2023-07-06 01:23:55  \n",
       "32906  2023-07-19 08:01:06  \n",
       "32907  2023-07-17 06:39:13  \n",
       "32908  2023-07-07 17:47:16  \n",
       "32909  2023-07-07 07:01:43  \n",
       "\n",
       "[32910 rows x 4 columns]"
      ]
     },
     "execution_count": 3,
     "metadata": {},
     "output_type": "execute_result"
    }
   ],
   "source": [
    "df = pd.read_csv('./dataset/threads_reviews.csv');\n",
    "df"
   ]
  },
  {
   "cell_type": "code",
   "execution_count": 4,
   "metadata": {},
   "outputs": [
    {
     "data": {
      "text/html": [
       "<div>\n",
       "<style scoped>\n",
       "    .dataframe tbody tr th:only-of-type {\n",
       "        vertical-align: middle;\n",
       "    }\n",
       "\n",
       "    .dataframe tbody tr th {\n",
       "        vertical-align: top;\n",
       "    }\n",
       "\n",
       "    .dataframe thead th {\n",
       "        text-align: right;\n",
       "    }\n",
       "</style>\n",
       "<table border=\"1\" class=\"dataframe\">\n",
       "  <thead>\n",
       "    <tr style=\"text-align: right;\">\n",
       "      <th></th>\n",
       "      <th>source</th>\n",
       "      <th>review_description</th>\n",
       "      <th>rating</th>\n",
       "      <th>review_date</th>\n",
       "    </tr>\n",
       "  </thead>\n",
       "  <tbody>\n",
       "    <tr>\n",
       "      <th>0</th>\n",
       "      <td>Google Play</td>\n",
       "      <td>Meh. Not the greatest experience on a Chromebo...</td>\n",
       "      <td>2</td>\n",
       "      <td>2023-07-08 14:18:24</td>\n",
       "    </tr>\n",
       "    <tr>\n",
       "      <th>1</th>\n",
       "      <td>Google Play</td>\n",
       "      <td>Pretty good for a first launch!! Its easy to u...</td>\n",
       "      <td>3</td>\n",
       "      <td>2023-07-19 20:52:48</td>\n",
       "    </tr>\n",
       "    <tr>\n",
       "      <th>2</th>\n",
       "      <td>Google Play</td>\n",
       "      <td>For a brand new app, it's very well optimized....</td>\n",
       "      <td>3</td>\n",
       "      <td>2023-07-06 23:03:11</td>\n",
       "    </tr>\n",
       "    <tr>\n",
       "      <th>3</th>\n",
       "      <td>Google Play</td>\n",
       "      <td>Great app with a lot of potential! However, th...</td>\n",
       "      <td>3</td>\n",
       "      <td>2023-07-10 00:53:25</td>\n",
       "    </tr>\n",
       "    <tr>\n",
       "      <th>4</th>\n",
       "      <td>Google Play</td>\n",
       "      <td>The app is good, but it needs a lot of functio...</td>\n",
       "      <td>3</td>\n",
       "      <td>2023-07-06 16:57:43</td>\n",
       "    </tr>\n",
       "    <tr>\n",
       "      <th>5</th>\n",
       "      <td>Google Play</td>\n",
       "      <td>Currently, it's very challenging to use. It's ...</td>\n",
       "      <td>2</td>\n",
       "      <td>2023-07-18 22:30:10</td>\n",
       "    </tr>\n",
       "    <tr>\n",
       "      <th>6</th>\n",
       "      <td>Google Play</td>\n",
       "      <td>I still don’t want to see content from people ...</td>\n",
       "      <td>1</td>\n",
       "      <td>2023-07-19 19:35:31</td>\n",
       "    </tr>\n",
       "    <tr>\n",
       "      <th>7</th>\n",
       "      <td>Google Play</td>\n",
       "      <td>Could be great if all pages loaded when you cl...</td>\n",
       "      <td>2</td>\n",
       "      <td>2023-07-06 14:35:15</td>\n",
       "    </tr>\n",
       "    <tr>\n",
       "      <th>8</th>\n",
       "      <td>Google Play</td>\n",
       "      <td>I'm liking the concept! There is room for impr...</td>\n",
       "      <td>3</td>\n",
       "      <td>2023-07-09 03:27:39</td>\n",
       "    </tr>\n",
       "    <tr>\n",
       "      <th>9</th>\n",
       "      <td>Google Play</td>\n",
       "      <td>Not bad! This is its first launch. There is st...</td>\n",
       "      <td>5</td>\n",
       "      <td>2023-07-06 23:41:13</td>\n",
       "    </tr>\n",
       "    <tr>\n",
       "      <th>10</th>\n",
       "      <td>Google Play</td>\n",
       "      <td>Over all, the UI of this app is good. Using it...</td>\n",
       "      <td>2</td>\n",
       "      <td>2023-07-09 01:06:39</td>\n",
       "    </tr>\n",
       "    <tr>\n",
       "      <th>11</th>\n",
       "      <td>Google Play</td>\n",
       "      <td>Nice but crashed &amp; can't access photo folders....</td>\n",
       "      <td>3</td>\n",
       "      <td>2023-07-07 12:55:32</td>\n",
       "    </tr>\n",
       "    <tr>\n",
       "      <th>12</th>\n",
       "      <td>Google Play</td>\n",
       "      <td>Pointless in following anyone. The feed algo w...</td>\n",
       "      <td>1</td>\n",
       "      <td>2023-07-14 16:15:10</td>\n",
       "    </tr>\n",
       "    <tr>\n",
       "      <th>13</th>\n",
       "      <td>Google Play</td>\n",
       "      <td>Not quite ready for prime time. Needs a feed s...</td>\n",
       "      <td>2</td>\n",
       "      <td>2023-07-06 11:53:02</td>\n",
       "    </tr>\n",
       "    <tr>\n",
       "      <th>14</th>\n",
       "      <td>Google Play</td>\n",
       "      <td>Very frustrating experience. Feed it's full of...</td>\n",
       "      <td>2</td>\n",
       "      <td>2023-07-08 01:23:40</td>\n",
       "    </tr>\n",
       "    <tr>\n",
       "      <th>15</th>\n",
       "      <td>Google Play</td>\n",
       "      <td>I like the simplicity of this app but there's ...</td>\n",
       "      <td>3</td>\n",
       "      <td>2023-07-06 15:35:46</td>\n",
       "    </tr>\n",
       "    <tr>\n",
       "      <th>16</th>\n",
       "      <td>Google Play</td>\n",
       "      <td>It needs a lot of work. It constantly crashes,...</td>\n",
       "      <td>2</td>\n",
       "      <td>2023-07-14 00:12:32</td>\n",
       "    </tr>\n",
       "    <tr>\n",
       "      <th>17</th>\n",
       "      <td>Google Play</td>\n",
       "      <td>My first thoughts: Since there is no web versi...</td>\n",
       "      <td>3</td>\n",
       "      <td>2023-07-06 08:09:04</td>\n",
       "    </tr>\n",
       "    <tr>\n",
       "      <th>18</th>\n",
       "      <td>Google Play</td>\n",
       "      <td>It's cool, but there's a lot of QoL that can b...</td>\n",
       "      <td>3</td>\n",
       "      <td>2023-07-06 08:54:41</td>\n",
       "    </tr>\n",
       "    <tr>\n",
       "      <th>19</th>\n",
       "      <td>Google Play</td>\n",
       "      <td>It's great, but there's a lot of QoL that can ...</td>\n",
       "      <td>3</td>\n",
       "      <td>2023-07-14 12:46:21</td>\n",
       "    </tr>\n",
       "  </tbody>\n",
       "</table>\n",
       "</div>"
      ],
      "text/plain": [
       "         source                                 review_description  rating  \\\n",
       "0   Google Play  Meh. Not the greatest experience on a Chromebo...       2   \n",
       "1   Google Play  Pretty good for a first launch!! Its easy to u...       3   \n",
       "2   Google Play  For a brand new app, it's very well optimized....       3   \n",
       "3   Google Play  Great app with a lot of potential! However, th...       3   \n",
       "4   Google Play  The app is good, but it needs a lot of functio...       3   \n",
       "5   Google Play  Currently, it's very challenging to use. It's ...       2   \n",
       "6   Google Play  I still don’t want to see content from people ...       1   \n",
       "7   Google Play  Could be great if all pages loaded when you cl...       2   \n",
       "8   Google Play  I'm liking the concept! There is room for impr...       3   \n",
       "9   Google Play  Not bad! This is its first launch. There is st...       5   \n",
       "10  Google Play  Over all, the UI of this app is good. Using it...       2   \n",
       "11  Google Play  Nice but crashed & can't access photo folders....       3   \n",
       "12  Google Play  Pointless in following anyone. The feed algo w...       1   \n",
       "13  Google Play  Not quite ready for prime time. Needs a feed s...       2   \n",
       "14  Google Play  Very frustrating experience. Feed it's full of...       2   \n",
       "15  Google Play  I like the simplicity of this app but there's ...       3   \n",
       "16  Google Play  It needs a lot of work. It constantly crashes,...       2   \n",
       "17  Google Play  My first thoughts: Since there is no web versi...       3   \n",
       "18  Google Play  It's cool, but there's a lot of QoL that can b...       3   \n",
       "19  Google Play  It's great, but there's a lot of QoL that can ...       3   \n",
       "\n",
       "            review_date  \n",
       "0   2023-07-08 14:18:24  \n",
       "1   2023-07-19 20:52:48  \n",
       "2   2023-07-06 23:03:11  \n",
       "3   2023-07-10 00:53:25  \n",
       "4   2023-07-06 16:57:43  \n",
       "5   2023-07-18 22:30:10  \n",
       "6   2023-07-19 19:35:31  \n",
       "7   2023-07-06 14:35:15  \n",
       "8   2023-07-09 03:27:39  \n",
       "9   2023-07-06 23:41:13  \n",
       "10  2023-07-09 01:06:39  \n",
       "11  2023-07-07 12:55:32  \n",
       "12  2023-07-14 16:15:10  \n",
       "13  2023-07-06 11:53:02  \n",
       "14  2023-07-08 01:23:40  \n",
       "15  2023-07-06 15:35:46  \n",
       "16  2023-07-14 00:12:32  \n",
       "17  2023-07-06 08:09:04  \n",
       "18  2023-07-06 08:54:41  \n",
       "19  2023-07-14 12:46:21  "
      ]
     },
     "execution_count": 4,
     "metadata": {},
     "output_type": "execute_result"
    }
   ],
   "source": [
    "df.head(20)"
   ]
  },
  {
   "cell_type": "code",
   "execution_count": 5,
   "metadata": {},
   "outputs": [
    {
     "data": {
      "text/plain": [
       "source     \n",
       "Google Play    30270\n",
       "App Store       2640\n",
       "dtype: int64"
      ]
     },
     "execution_count": 5,
     "metadata": {},
     "output_type": "execute_result"
    }
   ],
   "source": [
    "df[['source']].value_counts()"
   ]
  },
  {
   "cell_type": "markdown",
   "metadata": {},
   "source": [
    "Lots of reviews in this data are from Google Play"
   ]
  },
  {
   "cell_type": "code",
   "execution_count": 6,
   "metadata": {},
   "outputs": [],
   "source": [
    "from bs4 import BeautifulSoup"
   ]
  },
  {
   "cell_type": "code",
   "execution_count": 7,
   "metadata": {},
   "outputs": [
    {
     "data": {
      "text/html": [
       "<div>\n",
       "<style scoped>\n",
       "    .dataframe tbody tr th:only-of-type {\n",
       "        vertical-align: middle;\n",
       "    }\n",
       "\n",
       "    .dataframe tbody tr th {\n",
       "        vertical-align: top;\n",
       "    }\n",
       "\n",
       "    .dataframe thead th {\n",
       "        text-align: right;\n",
       "    }\n",
       "</style>\n",
       "<table border=\"1\" class=\"dataframe\">\n",
       "  <thead>\n",
       "    <tr style=\"text-align: right;\">\n",
       "      <th></th>\n",
       "      <th>source</th>\n",
       "      <th>review_description</th>\n",
       "      <th>rating</th>\n",
       "      <th>review_date</th>\n",
       "    </tr>\n",
       "  </thead>\n",
       "  <tbody>\n",
       "    <tr>\n",
       "      <th>0</th>\n",
       "      <td>Google Play</td>\n",
       "      <td>Meh. Not the greatest experience on a Chromebo...</td>\n",
       "      <td>2</td>\n",
       "      <td>2023-07-08 14:18:24</td>\n",
       "    </tr>\n",
       "    <tr>\n",
       "      <th>1</th>\n",
       "      <td>Google Play</td>\n",
       "      <td>Pretty good for a first launch!! Its easy to u...</td>\n",
       "      <td>3</td>\n",
       "      <td>2023-07-19 20:52:48</td>\n",
       "    </tr>\n",
       "    <tr>\n",
       "      <th>2</th>\n",
       "      <td>Google Play</td>\n",
       "      <td>For a brand new app, it's very well optimized....</td>\n",
       "      <td>3</td>\n",
       "      <td>2023-07-06 23:03:11</td>\n",
       "    </tr>\n",
       "    <tr>\n",
       "      <th>3</th>\n",
       "      <td>Google Play</td>\n",
       "      <td>Great app with a lot of potential! However, th...</td>\n",
       "      <td>3</td>\n",
       "      <td>2023-07-10 00:53:25</td>\n",
       "    </tr>\n",
       "    <tr>\n",
       "      <th>4</th>\n",
       "      <td>Google Play</td>\n",
       "      <td>The app is good, but it needs a lot of functio...</td>\n",
       "      <td>3</td>\n",
       "      <td>2023-07-06 16:57:43</td>\n",
       "    </tr>\n",
       "    <tr>\n",
       "      <th>...</th>\n",
       "      <td>...</td>\n",
       "      <td>...</td>\n",
       "      <td>...</td>\n",
       "      <td>...</td>\n",
       "    </tr>\n",
       "    <tr>\n",
       "      <th>32905</th>\n",
       "      <td>App Store</td>\n",
       "      <td>This killed my dog. Mark zuckerburg strangled ...</td>\n",
       "      <td>1</td>\n",
       "      <td>2023-07-06 01:23:55</td>\n",
       "    </tr>\n",
       "    <tr>\n",
       "      <th>32906</th>\n",
       "      <td>App Store</td>\n",
       "      <td>Add Search and hashtag like Twitter !</td>\n",
       "      <td>1</td>\n",
       "      <td>2023-07-19 08:01:06</td>\n",
       "    </tr>\n",
       "    <tr>\n",
       "      <th>32907</th>\n",
       "      <td>App Store</td>\n",
       "      <td>bad twister</td>\n",
       "      <td>1</td>\n",
       "      <td>2023-07-17 06:39:13</td>\n",
       "    </tr>\n",
       "    <tr>\n",
       "      <th>32908</th>\n",
       "      <td>App Store</td>\n",
       "      <td>Yet another trash from Meta.</td>\n",
       "      <td>1</td>\n",
       "      <td>2023-07-07 17:47:16</td>\n",
       "    </tr>\n",
       "    <tr>\n",
       "      <th>32909</th>\n",
       "      <td>App Store</td>\n",
       "      <td>Nothing special this app is just a copy of twi...</td>\n",
       "      <td>1</td>\n",
       "      <td>2023-07-07 07:01:43</td>\n",
       "    </tr>\n",
       "  </tbody>\n",
       "</table>\n",
       "<p>32910 rows × 4 columns</p>\n",
       "</div>"
      ],
      "text/plain": [
       "            source                                 review_description  rating  \\\n",
       "0      Google Play  Meh. Not the greatest experience on a Chromebo...       2   \n",
       "1      Google Play  Pretty good for a first launch!! Its easy to u...       3   \n",
       "2      Google Play  For a brand new app, it's very well optimized....       3   \n",
       "3      Google Play  Great app with a lot of potential! However, th...       3   \n",
       "4      Google Play  The app is good, but it needs a lot of functio...       3   \n",
       "...            ...                                                ...     ...   \n",
       "32905    App Store  This killed my dog. Mark zuckerburg strangled ...       1   \n",
       "32906    App Store              Add Search and hashtag like Twitter !       1   \n",
       "32907    App Store                                        bad twister       1   \n",
       "32908    App Store                       Yet another trash from Meta.       1   \n",
       "32909    App Store  Nothing special this app is just a copy of twi...       1   \n",
       "\n",
       "               review_date  \n",
       "0      2023-07-08 14:18:24  \n",
       "1      2023-07-19 20:52:48  \n",
       "2      2023-07-06 23:03:11  \n",
       "3      2023-07-10 00:53:25  \n",
       "4      2023-07-06 16:57:43  \n",
       "...                    ...  \n",
       "32905  2023-07-06 01:23:55  \n",
       "32906  2023-07-19 08:01:06  \n",
       "32907  2023-07-17 06:39:13  \n",
       "32908  2023-07-07 17:47:16  \n",
       "32909  2023-07-07 07:01:43  \n",
       "\n",
       "[32910 rows x 4 columns]"
      ]
     },
     "execution_count": 7,
     "metadata": {},
     "output_type": "execute_result"
    }
   ],
   "source": [
    "df"
   ]
  },
  {
   "cell_type": "markdown",
   "metadata": {},
   "source": [
    "# EDA"
   ]
  },
  {
   "cell_type": "code",
   "execution_count": 8,
   "metadata": {},
   "outputs": [],
   "source": [
    "df_eda = df.copy()"
   ]
  },
  {
   "cell_type": "markdown",
   "metadata": {},
   "source": [
    "## Distribution of the ratings"
   ]
  },
  {
   "cell_type": "code",
   "execution_count": 9,
   "metadata": {},
   "outputs": [],
   "source": [
    "import matplotlib.pyplot as plt\n",
    "import seaborn as sns"
   ]
  },
  {
   "cell_type": "code",
   "execution_count": 10,
   "metadata": {},
   "outputs": [
    {
     "data": {
      "text/plain": [
       "rating\n",
       "5         15559\n",
       "1          9726\n",
       "4          3244\n",
       "3          2585\n",
       "2          1796\n",
       "dtype: int64"
      ]
     },
     "execution_count": 10,
     "metadata": {},
     "output_type": "execute_result"
    }
   ],
   "source": [
    "df_eda[['rating']].value_counts()"
   ]
  },
  {
   "cell_type": "markdown",
   "metadata": {},
   "source": [
    "Lots of 5(highest) follow by 1(lowest rating) then 4(second highest) review scores."
   ]
  },
  {
   "cell_type": "code",
   "execution_count": 11,
   "metadata": {},
   "outputs": [
    {
     "data": {
      "image/png": "[encoded data removed]",
      "text/plain": [
       "<Figure size 432x288 with 1 Axes>"
      ]
     },
     "metadata": {
      "needs_background": "light"
     },
     "output_type": "display_data"
    }
   ],
   "source": [
    "# Plot a histogram\n",
    "# plt.hist(df_eda['rating'], bins=10, alpha=1)\n",
    "# plt.show\n",
    "\n",
    "ax = sns.countplot(x=\"rating\", data=df_eda, palette=\"Set3\")"
   ]
  },
  {
   "cell_type": "code",
   "execution_count": 12,
   "metadata": {},
   "outputs": [
    {
     "data": {
      "image/png": "[encoded data removed]",
      "text/plain": [
       "<Figure size 432x288 with 1 Axes>"
      ]
     },
     "metadata": {
      "needs_background": "light"
     },
     "output_type": "display_data"
    }
   ],
   "source": [
    "# seaborn density plot\n",
    "sns.kdeplot(df_eda['rating'])\n",
    "plt.show()"
   ]
  },
  {
   "cell_type": "code",
   "execution_count": 13,
   "metadata": {},
   "outputs": [
    {
     "data": {
      "text/plain": [
       "-0.42223814877241006"
      ]
     },
     "execution_count": 13,
     "metadata": {},
     "output_type": "execute_result"
    }
   ],
   "source": [
    "skewness = df_eda['rating'].skew()\n",
    "skewness"
   ]
  },
  {
   "cell_type": "markdown",
   "metadata": {},
   "source": [
    "The distribution are left-skewed, which is negative.        \n",
    "\n",
    "The ratings implies that most of the reviews have higher ratings."
   ]
  },
  {
   "cell_type": "markdown",
   "metadata": {},
   "source": [
    "## Most Common Words on Reviews"
   ]
  },
  {
   "cell_type": "markdown",
   "metadata": {},
   "source": [
    "Analyze the most frequently used words in the reviews. You can do this overall, or separate out by positive, neutral, and negative reviews. This can be visualized using word clouds or bar plots. This can give you insights into what are the key topics or features that users are mentioning in their reviews."
   ]
  },
  {
   "cell_type": "code",
   "execution_count": 14,
   "metadata": {},
   "outputs": [],
   "source": [
    "def classify_rating(rating):\n",
    "    if rating == 5 or rating == 4:\n",
    "        return 'positive'\n",
    "    elif rating == 3:\n",
    "        return 'neutral'\n",
    "    else:\n",
    "        return 'negative'"
   ]
  },
  {
   "cell_type": "code",
   "execution_count": 15,
   "metadata": {},
   "outputs": [
    {
     "data": {
      "text/html": [
       "<div>\n",
       "<style scoped>\n",
       "    .dataframe tbody tr th:only-of-type {\n",
       "        vertical-align: middle;\n",
       "    }\n",
       "\n",
       "    .dataframe tbody tr th {\n",
       "        vertical-align: top;\n",
       "    }\n",
       "\n",
       "    .dataframe thead th {\n",
       "        text-align: right;\n",
       "    }\n",
       "</style>\n",
       "<table border=\"1\" class=\"dataframe\">\n",
       "  <thead>\n",
       "    <tr style=\"text-align: right;\">\n",
       "      <th></th>\n",
       "      <th>source</th>\n",
       "      <th>review_description</th>\n",
       "      <th>rating</th>\n",
       "      <th>review_date</th>\n",
       "      <th>sentiment_rank</th>\n",
       "    </tr>\n",
       "  </thead>\n",
       "  <tbody>\n",
       "    <tr>\n",
       "      <th>0</th>\n",
       "      <td>Google Play</td>\n",
       "      <td>Meh. Not the greatest experience on a Chromebo...</td>\n",
       "      <td>2</td>\n",
       "      <td>2023-07-08 14:18:24</td>\n",
       "      <td>negative</td>\n",
       "    </tr>\n",
       "    <tr>\n",
       "      <th>1</th>\n",
       "      <td>Google Play</td>\n",
       "      <td>Pretty good for a first launch!! Its easy to u...</td>\n",
       "      <td>3</td>\n",
       "      <td>2023-07-19 20:52:48</td>\n",
       "      <td>neutral</td>\n",
       "    </tr>\n",
       "    <tr>\n",
       "      <th>2</th>\n",
       "      <td>Google Play</td>\n",
       "      <td>For a brand new app, it's very well optimized....</td>\n",
       "      <td>3</td>\n",
       "      <td>2023-07-06 23:03:11</td>\n",
       "      <td>neutral</td>\n",
       "    </tr>\n",
       "    <tr>\n",
       "      <th>3</th>\n",
       "      <td>Google Play</td>\n",
       "      <td>Great app with a lot of potential! However, th...</td>\n",
       "      <td>3</td>\n",
       "      <td>2023-07-10 00:53:25</td>\n",
       "      <td>neutral</td>\n",
       "    </tr>\n",
       "    <tr>\n",
       "      <th>4</th>\n",
       "      <td>Google Play</td>\n",
       "      <td>The app is good, but it needs a lot of functio...</td>\n",
       "      <td>3</td>\n",
       "      <td>2023-07-06 16:57:43</td>\n",
       "      <td>neutral</td>\n",
       "    </tr>\n",
       "    <tr>\n",
       "      <th>...</th>\n",
       "      <td>...</td>\n",
       "      <td>...</td>\n",
       "      <td>...</td>\n",
       "      <td>...</td>\n",
       "      <td>...</td>\n",
       "    </tr>\n",
       "    <tr>\n",
       "      <th>32905</th>\n",
       "      <td>App Store</td>\n",
       "      <td>This killed my dog. Mark zuckerburg strangled ...</td>\n",
       "      <td>1</td>\n",
       "      <td>2023-07-06 01:23:55</td>\n",
       "      <td>negative</td>\n",
       "    </tr>\n",
       "    <tr>\n",
       "      <th>32906</th>\n",
       "      <td>App Store</td>\n",
       "      <td>Add Search and hashtag like Twitter !</td>\n",
       "      <td>1</td>\n",
       "      <td>2023-07-19 08:01:06</td>\n",
       "      <td>negative</td>\n",
       "    </tr>\n",
       "    <tr>\n",
       "      <th>32907</th>\n",
       "      <td>App Store</td>\n",
       "      <td>bad twister</td>\n",
       "      <td>1</td>\n",
       "      <td>2023-07-17 06:39:13</td>\n",
       "      <td>negative</td>\n",
       "    </tr>\n",
       "    <tr>\n",
       "      <th>32908</th>\n",
       "      <td>App Store</td>\n",
       "      <td>Yet another trash from Meta.</td>\n",
       "      <td>1</td>\n",
       "      <td>2023-07-07 17:47:16</td>\n",
       "      <td>negative</td>\n",
       "    </tr>\n",
       "    <tr>\n",
       "      <th>32909</th>\n",
       "      <td>App Store</td>\n",
       "      <td>Nothing special this app is just a copy of twi...</td>\n",
       "      <td>1</td>\n",
       "      <td>2023-07-07 07:01:43</td>\n",
       "      <td>negative</td>\n",
       "    </tr>\n",
       "  </tbody>\n",
       "</table>\n",
       "<p>32910 rows × 5 columns</p>\n",
       "</div>"
      ],
      "text/plain": [
       "            source                                 review_description  rating  \\\n",
       "0      Google Play  Meh. Not the greatest experience on a Chromebo...       2   \n",
       "1      Google Play  Pretty good for a first launch!! Its easy to u...       3   \n",
       "2      Google Play  For a brand new app, it's very well optimized....       3   \n",
       "3      Google Play  Great app with a lot of potential! However, th...       3   \n",
       "4      Google Play  The app is good, but it needs a lot of functio...       3   \n",
       "...            ...                                                ...     ...   \n",
       "32905    App Store  This killed my dog. Mark zuckerburg strangled ...       1   \n",
       "32906    App Store              Add Search and hashtag like Twitter !       1   \n",
       "32907    App Store                                        bad twister       1   \n",
       "32908    App Store                       Yet another trash from Meta.       1   \n",
       "32909    App Store  Nothing special this app is just a copy of twi...       1   \n",
       "\n",
       "               review_date sentiment_rank  \n",
       "0      2023-07-08 14:18:24       negative  \n",
       "1      2023-07-19 20:52:48        neutral  \n",
       "2      2023-07-06 23:03:11        neutral  \n",
       "3      2023-07-10 00:53:25        neutral  \n",
       "4      2023-07-06 16:57:43        neutral  \n",
       "...                    ...            ...  \n",
       "32905  2023-07-06 01:23:55       negative  \n",
       "32906  2023-07-19 08:01:06       negative  \n",
       "32907  2023-07-17 06:39:13       negative  \n",
       "32908  2023-07-07 17:47:16       negative  \n",
       "32909  2023-07-07 07:01:43       negative  \n",
       "\n",
       "[32910 rows x 5 columns]"
      ]
     },
     "execution_count": 15,
     "metadata": {},
     "output_type": "execute_result"
    }
   ],
   "source": [
    "df_eda['sentiment_rank'] = df['rating'].apply(classify_rating)\n",
    "df_eda"
   ]
  },
  {
   "cell_type": "code",
   "execution_count": 16,
   "metadata": {},
   "outputs": [
    {
     "data": {
      "text/plain": [
       "sentiment_rank\n",
       "positive          18803\n",
       "negative          11522\n",
       "neutral            2585\n",
       "dtype: int64"
      ]
     },
     "execution_count": 16,
     "metadata": {},
     "output_type": "execute_result"
    }
   ],
   "source": [
    "df_eda[['sentiment_rank']].value_counts()"
   ]
  },
  {
   "cell_type": "markdown",
   "metadata": {},
   "source": [
    "To get meaningful results, I will remove stop words (common words like 'the', 'and', 'it', etc. that don't carry much meaning) and apply Lemmatization (reducing words to the base or dictionary form of a word) then do word cloud.   "
   ]
  },
  {
   "cell_type": "code",
   "execution_count": 17,
   "metadata": {},
   "outputs": [],
   "source": [
    "import re\n",
    "\n",
    "# Define a function to clean the text\n",
    "def clean(text):\n",
    "    # Removes all special characters and numericals leaving the alphabets\n",
    "    text = re.sub('[^A-Za-z]+', ' ', str(text))\n",
    "    return text\n"
   ]
  },
  {
   "cell_type": "code",
   "execution_count": 18,
   "metadata": {},
   "outputs": [
    {
     "data": {
      "text/html": [
       "<div>\n",
       "<style scoped>\n",
       "    .dataframe tbody tr th:only-of-type {\n",
       "        vertical-align: middle;\n",
       "    }\n",
       "\n",
       "    .dataframe tbody tr th {\n",
       "        vertical-align: top;\n",
       "    }\n",
       "\n",
       "    .dataframe thead th {\n",
       "        text-align: right;\n",
       "    }\n",
       "</style>\n",
       "<table border=\"1\" class=\"dataframe\">\n",
       "  <thead>\n",
       "    <tr style=\"text-align: right;\">\n",
       "      <th></th>\n",
       "      <th>source</th>\n",
       "      <th>review_description</th>\n",
       "      <th>rating</th>\n",
       "      <th>review_date</th>\n",
       "      <th>sentiment_rank</th>\n",
       "      <th>clean_reviews</th>\n",
       "    </tr>\n",
       "  </thead>\n",
       "  <tbody>\n",
       "    <tr>\n",
       "      <th>0</th>\n",
       "      <td>Google Play</td>\n",
       "      <td>Meh. Not the greatest experience on a Chromebo...</td>\n",
       "      <td>2</td>\n",
       "      <td>2023-07-08 14:18:24</td>\n",
       "      <td>negative</td>\n",
       "      <td>Meh Not the greatest experience on a Chromeboo...</td>\n",
       "    </tr>\n",
       "    <tr>\n",
       "      <th>1</th>\n",
       "      <td>Google Play</td>\n",
       "      <td>Pretty good for a first launch!! Its easy to u...</td>\n",
       "      <td>3</td>\n",
       "      <td>2023-07-19 20:52:48</td>\n",
       "      <td>neutral</td>\n",
       "      <td>Pretty good for a first launch Its easy to use...</td>\n",
       "    </tr>\n",
       "    <tr>\n",
       "      <th>2</th>\n",
       "      <td>Google Play</td>\n",
       "      <td>For a brand new app, it's very well optimized....</td>\n",
       "      <td>3</td>\n",
       "      <td>2023-07-06 23:03:11</td>\n",
       "      <td>neutral</td>\n",
       "      <td>For a brand new app it s very well optimized H...</td>\n",
       "    </tr>\n",
       "    <tr>\n",
       "      <th>3</th>\n",
       "      <td>Google Play</td>\n",
       "      <td>Great app with a lot of potential! However, th...</td>\n",
       "      <td>3</td>\n",
       "      <td>2023-07-10 00:53:25</td>\n",
       "      <td>neutral</td>\n",
       "      <td>Great app with a lot of potential However ther...</td>\n",
       "    </tr>\n",
       "    <tr>\n",
       "      <th>4</th>\n",
       "      <td>Google Play</td>\n",
       "      <td>The app is good, but it needs a lot of functio...</td>\n",
       "      <td>3</td>\n",
       "      <td>2023-07-06 16:57:43</td>\n",
       "      <td>neutral</td>\n",
       "      <td>The app is good but it needs a lot of function...</td>\n",
       "    </tr>\n",
       "  </tbody>\n",
       "</table>\n",
       "</div>"
      ],
      "text/plain": [
       "        source                                 review_description  rating  \\\n",
       "0  Google Play  Meh. Not the greatest experience on a Chromebo...       2   \n",
       "1  Google Play  Pretty good for a first launch!! Its easy to u...       3   \n",
       "2  Google Play  For a brand new app, it's very well optimized....       3   \n",
       "3  Google Play  Great app with a lot of potential! However, th...       3   \n",
       "4  Google Play  The app is good, but it needs a lot of functio...       3   \n",
       "\n",
       "           review_date sentiment_rank  \\\n",
       "0  2023-07-08 14:18:24       negative   \n",
       "1  2023-07-19 20:52:48        neutral   \n",
       "2  2023-07-06 23:03:11        neutral   \n",
       "3  2023-07-10 00:53:25        neutral   \n",
       "4  2023-07-06 16:57:43        neutral   \n",
       "\n",
       "                                       clean_reviews  \n",
       "0  Meh Not the greatest experience on a Chromeboo...  \n",
       "1  Pretty good for a first launch Its easy to use...  \n",
       "2  For a brand new app it s very well optimized H...  \n",
       "3  Great app with a lot of potential However ther...  \n",
       "4  The app is good but it needs a lot of function...  "
      ]
     },
     "execution_count": 18,
     "metadata": {},
     "output_type": "execute_result"
    }
   ],
   "source": [
    "# Cleaning the text in the 'reviews' column\n",
    "df_eda['clean_reviews'] = df_eda['review_description'].apply(clean)\n",
    "df_eda.head()"
   ]
  },
  {
   "cell_type": "code",
   "execution_count": 19,
   "metadata": {},
   "outputs": [
    {
     "name": "stderr",
     "output_type": "stream",
     "text": [
      "[nltk_data] Downloading package punkt to\n",
      "[nltk_data]     C:\\Users\\Pandu\\AppData\\Roaming\\nltk_data...\n",
      "[nltk_data]   Package punkt is already up-to-date!\n",
      "[nltk_data] Downloading package stopwords to\n",
      "[nltk_data]     C:\\Users\\Pandu\\AppData\\Roaming\\nltk_data...\n",
      "[nltk_data]   Package stopwords is already up-to-date!\n",
      "[nltk_data] Downloading package wordnet to\n",
      "[nltk_data]     C:\\Users\\Pandu\\AppData\\Roaming\\nltk_data...\n",
      "[nltk_data]   Package wordnet is already up-to-date!\n"
     ]
    }
   ],
   "source": [
    "import nltk\n",
    "\"\"\"This punkt tokenizer divides a text into a list of sentences by using an␣\n",
    "↪unsupervised algorithm to build a model for abbreviation words,\n",
    "collocations, and words that start sentences. \"\"\"\n",
    "nltk.download('punkt')\n",
    "from nltk.tokenize import word_tokenize\n",
    "from nltk import pos_tag\n",
    "nltk.download('stopwords')\n",
    "from nltk.corpus import stopwords\n",
    "nltk.download('wordnet')\n",
    "from nltk.corpus import wordnet"
   ]
  },
  {
   "cell_type": "code",
   "execution_count": 20,
   "metadata": {},
   "outputs": [
    {
     "name": "stderr",
     "output_type": "stream",
     "text": [
      "[nltk_data] Downloading package omw-1.4 to\n",
      "[nltk_data]     C:\\Users\\Pandu\\AppData\\Roaming\\nltk_data...\n"
     ]
    },
    {
     "name": "stderr",
     "output_type": "stream",
     "text": [
      "[nltk_data]   Package omw-1.4 is already up-to-date!\n",
      "[nltk_data] Downloading package averaged_perceptron_tagger to\n",
      "[nltk_data]     C:\\Users\\Pandu\\AppData\\Roaming\\nltk_data...\n",
      "[nltk_data]   Package averaged_perceptron_tagger is already up-to-\n",
      "[nltk_data]       date!\n"
     ]
    }
   ],
   "source": [
    "#The nltk.corpus package defines a collection of corpus reader classes, \n",
    "# which can be used to access the contents of a diverse set of corpora.\n",
    "nltk.download('omw-1.4')\n",
    "nltk.download('averaged_perceptron_tagger')\n",
    "\n",
    "# POS tagger dictionary\n",
    "pos_dict = {'J':wordnet.ADJ, 'V':wordnet.VERB, 'N':wordnet.NOUN, 'R':wordnet.ADV}\n",
    "\n",
    "def token_stop_pos(text):\n",
    "    tags = pos_tag(word_tokenize(text))\n",
    "    # print(tags)\n",
    "    newlist = []\n",
    "    for word, tag in tags:\n",
    "        if word.lower() not in set(stopwords.words('english')):\n",
    "            newlist.append(tuple([word, pos_dict.get(tag[0])]))\n",
    "            #print(tag[0])\n",
    "            #print(pos_dict.get(tag[0]))\n",
    "    return newlist"
   ]
  },
  {
   "cell_type": "code",
   "execution_count": 21,
   "metadata": {},
   "outputs": [
    {
     "data": {
      "text/html": [
       "<div>\n",
       "<style scoped>\n",
       "    .dataframe tbody tr th:only-of-type {\n",
       "        vertical-align: middle;\n",
       "    }\n",
       "\n",
       "    .dataframe tbody tr th {\n",
       "        vertical-align: top;\n",
       "    }\n",
       "\n",
       "    .dataframe thead th {\n",
       "        text-align: right;\n",
       "    }\n",
       "</style>\n",
       "<table border=\"1\" class=\"dataframe\">\n",
       "  <thead>\n",
       "    <tr style=\"text-align: right;\">\n",
       "      <th></th>\n",
       "      <th>source</th>\n",
       "      <th>review_description</th>\n",
       "      <th>rating</th>\n",
       "      <th>review_date</th>\n",
       "      <th>sentiment_rank</th>\n",
       "      <th>clean_reviews</th>\n",
       "      <th>POS_tagged</th>\n",
       "    </tr>\n",
       "  </thead>\n",
       "  <tbody>\n",
       "    <tr>\n",
       "      <th>0</th>\n",
       "      <td>Google Play</td>\n",
       "      <td>Meh. Not the greatest experience on a Chromebo...</td>\n",
       "      <td>2</td>\n",
       "      <td>2023-07-08 14:18:24</td>\n",
       "      <td>negative</td>\n",
       "      <td>Meh Not the greatest experience on a Chromeboo...</td>\n",
       "      <td>[(Meh, n), (greatest, a), (experience, n), (Ch...</td>\n",
       "    </tr>\n",
       "    <tr>\n",
       "      <th>1</th>\n",
       "      <td>Google Play</td>\n",
       "      <td>Pretty good for a first launch!! Its easy to u...</td>\n",
       "      <td>3</td>\n",
       "      <td>2023-07-19 20:52:48</td>\n",
       "      <td>neutral</td>\n",
       "      <td>Pretty good for a first launch Its easy to use...</td>\n",
       "      <td>[(Pretty, r), (good, a), (first, a), (launch, ...</td>\n",
       "    </tr>\n",
       "    <tr>\n",
       "      <th>2</th>\n",
       "      <td>Google Play</td>\n",
       "      <td>For a brand new app, it's very well optimized....</td>\n",
       "      <td>3</td>\n",
       "      <td>2023-07-06 23:03:11</td>\n",
       "      <td>neutral</td>\n",
       "      <td>For a brand new app it s very well optimized H...</td>\n",
       "      <td>[(brand, n), (new, a), (app, n), (well, r), (o...</td>\n",
       "    </tr>\n",
       "    <tr>\n",
       "      <th>3</th>\n",
       "      <td>Google Play</td>\n",
       "      <td>Great app with a lot of potential! However, th...</td>\n",
       "      <td>3</td>\n",
       "      <td>2023-07-10 00:53:25</td>\n",
       "      <td>neutral</td>\n",
       "      <td>Great app with a lot of potential However ther...</td>\n",
       "      <td>[(Great, n), (app, n), (lot, n), (potential, a...</td>\n",
       "    </tr>\n",
       "    <tr>\n",
       "      <th>4</th>\n",
       "      <td>Google Play</td>\n",
       "      <td>The app is good, but it needs a lot of functio...</td>\n",
       "      <td>3</td>\n",
       "      <td>2023-07-06 16:57:43</td>\n",
       "      <td>neutral</td>\n",
       "      <td>The app is good but it needs a lot of function...</td>\n",
       "      <td>[(app, n), (good, a), (needs, v), (lot, n), (f...</td>\n",
       "    </tr>\n",
       "  </tbody>\n",
       "</table>\n",
       "</div>"
      ],
      "text/plain": [
       "        source                                 review_description  rating  \\\n",
       "0  Google Play  Meh. Not the greatest experience on a Chromebo...       2   \n",
       "1  Google Play  Pretty good for a first launch!! Its easy to u...       3   \n",
       "2  Google Play  For a brand new app, it's very well optimized....       3   \n",
       "3  Google Play  Great app with a lot of potential! However, th...       3   \n",
       "4  Google Play  The app is good, but it needs a lot of functio...       3   \n",
       "\n",
       "           review_date sentiment_rank  \\\n",
       "0  2023-07-08 14:18:24       negative   \n",
       "1  2023-07-19 20:52:48        neutral   \n",
       "2  2023-07-06 23:03:11        neutral   \n",
       "3  2023-07-10 00:53:25        neutral   \n",
       "4  2023-07-06 16:57:43        neutral   \n",
       "\n",
       "                                       clean_reviews  \\\n",
       "0  Meh Not the greatest experience on a Chromeboo...   \n",
       "1  Pretty good for a first launch Its easy to use...   \n",
       "2  For a brand new app it s very well optimized H...   \n",
       "3  Great app with a lot of potential However ther...   \n",
       "4  The app is good but it needs a lot of function...   \n",
       "\n",
       "                                          POS_tagged  \n",
       "0  [(Meh, n), (greatest, a), (experience, n), (Ch...  \n",
       "1  [(Pretty, r), (good, a), (first, a), (launch, ...  \n",
       "2  [(brand, n), (new, a), (app, n), (well, r), (o...  \n",
       "3  [(Great, n), (app, n), (lot, n), (potential, a...  \n",
       "4  [(app, n), (good, a), (needs, v), (lot, n), (f...  "
      ]
     },
     "execution_count": 21,
     "metadata": {},
     "output_type": "execute_result"
    }
   ],
   "source": [
    "df_eda['POS_tagged'] = df_eda['clean_reviews'].apply(token_stop_pos)\n",
    "df_eda.head()"
   ]
  },
  {
   "cell_type": "code",
   "execution_count": 22,
   "metadata": {},
   "outputs": [],
   "source": [
    "# Obtaining the stem words – Lemmatization\n",
    "from nltk.stem import WordNetLemmatizer\n",
    "wordnet_lemmatizer = WordNetLemmatizer()\n",
    "\n",
    "def lemmatize(pos_data):\n",
    "    lemma_rew = \" \"\n",
    "    for word, pos in pos_data:\n",
    "        if not pos:\n",
    "            lemma = word\n",
    "            lemma_rew = lemma_rew + \" \" + lemma\n",
    "        else:\n",
    "            lemma = wordnet_lemmatizer.lemmatize(word, pos=pos)\n",
    "            lemma_rew = lemma_rew + \" \" + lemma\n",
    "    return lemma_rew"
   ]
  },
  {
   "cell_type": "code",
   "execution_count": 23,
   "metadata": {},
   "outputs": [
    {
     "data": {
      "text/html": [
       "<div>\n",
       "<style scoped>\n",
       "    .dataframe tbody tr th:only-of-type {\n",
       "        vertical-align: middle;\n",
       "    }\n",
       "\n",
       "    .dataframe tbody tr th {\n",
       "        vertical-align: top;\n",
       "    }\n",
       "\n",
       "    .dataframe thead th {\n",
       "        text-align: right;\n",
       "    }\n",
       "</style>\n",
       "<table border=\"1\" class=\"dataframe\">\n",
       "  <thead>\n",
       "    <tr style=\"text-align: right;\">\n",
       "      <th></th>\n",
       "      <th>source</th>\n",
       "      <th>review_description</th>\n",
       "      <th>rating</th>\n",
       "      <th>review_date</th>\n",
       "      <th>sentiment_rank</th>\n",
       "      <th>clean_reviews</th>\n",
       "      <th>POS_tagged</th>\n",
       "      <th>lemma</th>\n",
       "    </tr>\n",
       "  </thead>\n",
       "  <tbody>\n",
       "    <tr>\n",
       "      <th>0</th>\n",
       "      <td>Google Play</td>\n",
       "      <td>Meh. Not the greatest experience on a Chromebo...</td>\n",
       "      <td>2</td>\n",
       "      <td>2023-07-08 14:18:24</td>\n",
       "      <td>negative</td>\n",
       "      <td>Meh Not the greatest experience on a Chromeboo...</td>\n",
       "      <td>[(Meh, n), (greatest, a), (experience, n), (Ch...</td>\n",
       "      <td>Meh great experience Chromebook Seems custom...</td>\n",
       "    </tr>\n",
       "    <tr>\n",
       "      <th>1</th>\n",
       "      <td>Google Play</td>\n",
       "      <td>Pretty good for a first launch!! Its easy to u...</td>\n",
       "      <td>3</td>\n",
       "      <td>2023-07-19 20:52:48</td>\n",
       "      <td>neutral</td>\n",
       "      <td>Pretty good for a first launch Its easy to use...</td>\n",
       "      <td>[(Pretty, r), (good, a), (first, a), (launch, ...</td>\n",
       "      <td>Pretty good first launch easy use self expla...</td>\n",
       "    </tr>\n",
       "    <tr>\n",
       "      <th>2</th>\n",
       "      <td>Google Play</td>\n",
       "      <td>For a brand new app, it's very well optimized....</td>\n",
       "      <td>3</td>\n",
       "      <td>2023-07-06 23:03:11</td>\n",
       "      <td>neutral</td>\n",
       "      <td>For a brand new app it s very well optimized H...</td>\n",
       "      <td>[(brand, n), (new, a), (app, n), (well, r), (o...</td>\n",
       "      <td>brand new app well optimize However miss qui...</td>\n",
       "    </tr>\n",
       "    <tr>\n",
       "      <th>3</th>\n",
       "      <td>Google Play</td>\n",
       "      <td>Great app with a lot of potential! However, th...</td>\n",
       "      <td>3</td>\n",
       "      <td>2023-07-10 00:53:25</td>\n",
       "      <td>neutral</td>\n",
       "      <td>Great app with a lot of potential However ther...</td>\n",
       "      <td>[(Great, n), (app, n), (lot, n), (potential, a...</td>\n",
       "      <td>Great app lot potential However lot need fix...</td>\n",
       "    </tr>\n",
       "    <tr>\n",
       "      <th>4</th>\n",
       "      <td>Google Play</td>\n",
       "      <td>The app is good, but it needs a lot of functio...</td>\n",
       "      <td>3</td>\n",
       "      <td>2023-07-06 16:57:43</td>\n",
       "      <td>neutral</td>\n",
       "      <td>The app is good but it needs a lot of function...</td>\n",
       "      <td>[(app, n), (good, a), (needs, v), (lot, n), (f...</td>\n",
       "      <td>app good need lot functionality example sear...</td>\n",
       "    </tr>\n",
       "  </tbody>\n",
       "</table>\n",
       "</div>"
      ],
      "text/plain": [
       "        source                                 review_description  rating  \\\n",
       "0  Google Play  Meh. Not the greatest experience on a Chromebo...       2   \n",
       "1  Google Play  Pretty good for a first launch!! Its easy to u...       3   \n",
       "2  Google Play  For a brand new app, it's very well optimized....       3   \n",
       "3  Google Play  Great app with a lot of potential! However, th...       3   \n",
       "4  Google Play  The app is good, but it needs a lot of functio...       3   \n",
       "\n",
       "           review_date sentiment_rank  \\\n",
       "0  2023-07-08 14:18:24       negative   \n",
       "1  2023-07-19 20:52:48        neutral   \n",
       "2  2023-07-06 23:03:11        neutral   \n",
       "3  2023-07-10 00:53:25        neutral   \n",
       "4  2023-07-06 16:57:43        neutral   \n",
       "\n",
       "                                       clean_reviews  \\\n",
       "0  Meh Not the greatest experience on a Chromeboo...   \n",
       "1  Pretty good for a first launch Its easy to use...   \n",
       "2  For a brand new app it s very well optimized H...   \n",
       "3  Great app with a lot of potential However ther...   \n",
       "4  The app is good but it needs a lot of function...   \n",
       "\n",
       "                                          POS_tagged  \\\n",
       "0  [(Meh, n), (greatest, a), (experience, n), (Ch...   \n",
       "1  [(Pretty, r), (good, a), (first, a), (launch, ...   \n",
       "2  [(brand, n), (new, a), (app, n), (well, r), (o...   \n",
       "3  [(Great, n), (app, n), (lot, n), (potential, a...   \n",
       "4  [(app, n), (good, a), (needs, v), (lot, n), (f...   \n",
       "\n",
       "                                               lemma  \n",
       "0    Meh great experience Chromebook Seems custom...  \n",
       "1    Pretty good first launch easy use self expla...  \n",
       "2    brand new app well optimize However miss qui...  \n",
       "3    Great app lot potential However lot need fix...  \n",
       "4    app good need lot functionality example sear...  "
      ]
     },
     "execution_count": 23,
     "metadata": {},
     "output_type": "execute_result"
    }
   ],
   "source": [
    "df_eda['lemma'] = df_eda['POS_tagged'].apply(lemmatize)\n",
    "df_eda.head()"
   ]
  },
  {
   "cell_type": "code",
   "execution_count": 24,
   "metadata": {},
   "outputs": [],
   "source": [
    "from nltk.probability import FreqDist\n",
    "\n",
    "# Tokenize the words in your reviews\n",
    "all_words = nltk.word_tokenize(' '.join(df_eda['clean_reviews']))\n",
    "positive_words = nltk.word_tokenize(' '.join(df_eda[df_eda['sentiment_rank']=='positive']['clean_reviews']))\n",
    "negative_words = nltk.word_tokenize(' '.join(df_eda[df_eda['sentiment_rank']=='negative']['clean_reviews']))\n",
    "neutral_words = nltk.word_tokenize(' '.join(df_eda[df_eda['sentiment_rank']=='neutral']['clean_reviews']))\n",
    "\n",
    "# Create frequency distributions\n",
    "all_freq = FreqDist(all_words)\n",
    "positive_freq = FreqDist(positive_words)\n",
    "negative_freq = FreqDist(negative_words)\n",
    "neutral_freq = FreqDist(neutral_words)"
   ]
  },
  {
   "cell_type": "code",
   "execution_count": 25,
   "metadata": {},
   "outputs": [
    {
     "name": "stdout",
     "output_type": "stream",
     "text": [
      "Most common words in all reviews: [('I', 11383), ('to', 10637), ('app', 10136), ('the', 9232), ('it', 8260), ('and', 7629), ('is', 6902), ('a', 6777), ('t', 4837), ('of', 4761)]\n"
     ]
    }
   ],
   "source": [
    "print(\"Most common words in all reviews:\", all_freq.most_common(10))"
   ]
  },
  {
   "cell_type": "code",
   "execution_count": 26,
   "metadata": {},
   "outputs": [
    {
     "name": "stdout",
     "output_type": "stream",
     "text": [
      "Most common words in positive reviews: [('app', 5107), ('I', 3896), ('to', 3758), ('the', 3343), ('it', 3255), ('and', 2957), ('is', 2724), ('a', 2529), ('s', 2082), ('Twitter', 1994)]\n",
      "Most common words in negative reviews: [('I', 5603), ('to', 5012), ('the', 4263), ('app', 4012), ('it', 3807), ('and', 3637), ('t', 3269), ('is', 3269), ('a', 3027), ('of', 2661)]\n",
      "Most common words in neutral reviews: [('I', 1884), ('to', 1867), ('the', 1626), ('a', 1221), ('it', 1198), ('and', 1035), ('app', 1017), ('is', 909), ('s', 714), ('of', 695)]\n"
     ]
    }
   ],
   "source": [
    "print(\"Most common words in positive reviews:\", positive_freq.most_common(10))\n",
    "print(\"Most common words in negative reviews:\", negative_freq.most_common(10))\n",
    "print(\"Most common words in neutral reviews:\", neutral_freq.most_common(10))"
   ]
  },
  {
   "cell_type": "markdown",
   "metadata": {},
   "source": [
    "Visualize the distributions with barplot"
   ]
  },
  {
   "cell_type": "code",
   "execution_count": 27,
   "metadata": {},
   "outputs": [
    {
     "data": {
      "image/png": "[encoded data removed]",
      "text/plain": [
       "<Figure size 720x360 with 1 Axes>"
      ]
     },
     "metadata": {
      "needs_background": "light"
     },
     "output_type": "display_data"
    },
    {
     "data": {
      "image/png": "[encoded data removed]",
      "text/plain": [
       "<Figure size 720x360 with 1 Axes>"
      ]
     },
     "metadata": {
      "needs_background": "light"
     },
     "output_type": "display_data"
    },
    {
     "data": {
      "image/png": "[encoded data removed]",
      "text/plain": [
       "<Figure size 720x360 with 1 Axes>"
      ]
     },
     "metadata": {
      "needs_background": "light"
     },
     "output_type": "display_data"
    },
    {
     "data": {
      "image/png": "[encoded data removed]",
      "text/plain": [
       "<Figure size 720x360 with 1 Axes>"
      ]
     },
     "metadata": {
      "needs_background": "light"
     },
     "output_type": "display_data"
    }
   ],
   "source": [
    "# Function to plot top 10 most common words\n",
    "def plot_most_common(freq_dist, sentiment):\n",
    "    words, frequencies = zip(*freq_dist.most_common(10))\n",
    "    plt.figure(figsize=(10,5))\n",
    "    plt.bar(words, frequencies)\n",
    "    plt.title(f\"Top words in {sentiment} reviews\")\n",
    "    plt.show()\n",
    "\n",
    "plot_most_common(all_freq, \"all reviews\")\n",
    "plot_most_common(positive_freq, \"positive\")\n",
    "plot_most_common(negative_freq, \"negative\")\n",
    "plot_most_common(neutral_freq, \"neutral\")"
   ]
  },
  {
   "cell_type": "markdown",
   "metadata": {},
   "source": [
    "it seems like certain words like 'app', 'Twitter', 'thread', and 'use' are common across all types of reviews. These words are more generic and related to the nature of the application itself, rather than the sentiment towards it.      \n",
    "\n",
    "However, words like 'good', 'Nice', 'delete' and 'follow' might be more related to the sentiment of the review. For example, 'good' and 'Nice' are more frequently appearing in positive reviews, which makes sense as they are positive words. On the other hand, 'delete' is more common in negative reviews, suggesting issues leading users to delete the app or their posts/accounts.      \n",
    "\n",
    "For neutral reviews, the words seem to describe more functional aspects of the app like 'follow', 'post', 'see', which might suggest that these reviews are more objective, describing features without expressing a positive or negative sentiment.        \n",
    "\n",
    "This kind of analysis can help you understand the major topics or features that are associated with positive, negative and neutral reviews.     \n",
    "\n",
    "You can take this a step further and look at bigrams (pairs of words) or trigrams (three words) that occur frequently together. This can provide even more context. For example, if 'cannot' and 'delete' frequently appear together in negative reviews, that suggests a different issue than 'delete' appearing alone.        \n",
    "\n",
    "Remember, while this analysis gives you a high-level overview of common topics in the reviews, it does not capture all the nuances. Further text analysis or even manual review might be necessary for more detailed insights.      "
   ]
  },
  {
   "cell_type": "code",
   "execution_count": 28,
   "metadata": {},
   "outputs": [
    {
     "name": "stdout",
     "output_type": "stream",
     "text": [
      "<class 'pandas.core.frame.DataFrame'>\n",
      "RangeIndex: 32910 entries, 0 to 32909\n",
      "Data columns (total 8 columns):\n",
      " #   Column              Non-Null Count  Dtype \n",
      "---  ------              --------------  ----- \n",
      " 0   source              32910 non-null  object\n",
      " 1   review_description  32910 non-null  object\n",
      " 2   rating              32910 non-null  int64 \n",
      " 3   review_date         32910 non-null  object\n",
      " 4   sentiment_rank      32910 non-null  object\n",
      " 5   clean_reviews       32910 non-null  object\n",
      " 6   POS_tagged          32910 non-null  object\n",
      " 7   lemma               32910 non-null  object\n",
      "dtypes: int64(1), object(7)\n",
      "memory usage: 2.0+ MB\n"
     ]
    }
   ],
   "source": [
    "df_eda.info()"
   ]
  },
  {
   "cell_type": "markdown",
   "metadata": {},
   "source": [
    "## Review Length and Rating"
   ]
  },
  {
   "cell_type": "markdown",
   "metadata": {},
   "source": [
    "Are there relationship between the length of a review and the rating given?"
   ]
  },
  {
   "cell_type": "code",
   "execution_count": 29,
   "metadata": {},
   "outputs": [
    {
     "data": {
      "text/html": [
       "<div>\n",
       "<style scoped>\n",
       "    .dataframe tbody tr th:only-of-type {\n",
       "        vertical-align: middle;\n",
       "    }\n",
       "\n",
       "    .dataframe tbody tr th {\n",
       "        vertical-align: top;\n",
       "    }\n",
       "\n",
       "    .dataframe thead th {\n",
       "        text-align: right;\n",
       "    }\n",
       "</style>\n",
       "<table border=\"1\" class=\"dataframe\">\n",
       "  <thead>\n",
       "    <tr style=\"text-align: right;\">\n",
       "      <th></th>\n",
       "      <th>source</th>\n",
       "      <th>review_description</th>\n",
       "      <th>rating</th>\n",
       "      <th>review_date</th>\n",
       "      <th>sentiment_rank</th>\n",
       "      <th>clean_reviews</th>\n",
       "      <th>POS_tagged</th>\n",
       "      <th>lemma</th>\n",
       "      <th>word_count</th>\n",
       "      <th>char_count</th>\n",
       "    </tr>\n",
       "  </thead>\n",
       "  <tbody>\n",
       "    <tr>\n",
       "      <th>0</th>\n",
       "      <td>Google Play</td>\n",
       "      <td>Meh. Not the greatest experience on a Chromebo...</td>\n",
       "      <td>2</td>\n",
       "      <td>2023-07-08 14:18:24</td>\n",
       "      <td>negative</td>\n",
       "      <td>Meh Not the greatest experience on a Chromeboo...</td>\n",
       "      <td>[(Meh, n), (greatest, a), (experience, n), (Ch...</td>\n",
       "      <td>Meh great experience Chromebook Seems custom...</td>\n",
       "      <td>85</td>\n",
       "      <td>465</td>\n",
       "    </tr>\n",
       "    <tr>\n",
       "      <th>1</th>\n",
       "      <td>Google Play</td>\n",
       "      <td>Pretty good for a first launch!! Its easy to u...</td>\n",
       "      <td>3</td>\n",
       "      <td>2023-07-19 20:52:48</td>\n",
       "      <td>neutral</td>\n",
       "      <td>Pretty good for a first launch Its easy to use...</td>\n",
       "      <td>[(Pretty, r), (good, a), (first, a), (launch, ...</td>\n",
       "      <td>Pretty good first launch easy use self expla...</td>\n",
       "      <td>81</td>\n",
       "      <td>475</td>\n",
       "    </tr>\n",
       "    <tr>\n",
       "      <th>2</th>\n",
       "      <td>Google Play</td>\n",
       "      <td>For a brand new app, it's very well optimized....</td>\n",
       "      <td>3</td>\n",
       "      <td>2023-07-06 23:03:11</td>\n",
       "      <td>neutral</td>\n",
       "      <td>For a brand new app it s very well optimized H...</td>\n",
       "      <td>[(brand, n), (new, a), (app, n), (well, r), (o...</td>\n",
       "      <td>brand new app well optimize However miss qui...</td>\n",
       "      <td>91</td>\n",
       "      <td>497</td>\n",
       "    </tr>\n",
       "    <tr>\n",
       "      <th>3</th>\n",
       "      <td>Google Play</td>\n",
       "      <td>Great app with a lot of potential! However, th...</td>\n",
       "      <td>3</td>\n",
       "      <td>2023-07-10 00:53:25</td>\n",
       "      <td>neutral</td>\n",
       "      <td>Great app with a lot of potential However ther...</td>\n",
       "      <td>[(Great, n), (app, n), (lot, n), (potential, a...</td>\n",
       "      <td>Great app lot potential However lot need fix...</td>\n",
       "      <td>94</td>\n",
       "      <td>487</td>\n",
       "    </tr>\n",
       "    <tr>\n",
       "      <th>4</th>\n",
       "      <td>Google Play</td>\n",
       "      <td>The app is good, but it needs a lot of functio...</td>\n",
       "      <td>3</td>\n",
       "      <td>2023-07-06 16:57:43</td>\n",
       "      <td>neutral</td>\n",
       "      <td>The app is good but it needs a lot of function...</td>\n",
       "      <td>[(app, n), (good, a), (needs, v), (lot, n), (f...</td>\n",
       "      <td>app good need lot functionality example sear...</td>\n",
       "      <td>79</td>\n",
       "      <td>426</td>\n",
       "    </tr>\n",
       "  </tbody>\n",
       "</table>\n",
       "</div>"
      ],
      "text/plain": [
       "        source                                 review_description  rating  \\\n",
       "0  Google Play  Meh. Not the greatest experience on a Chromebo...       2   \n",
       "1  Google Play  Pretty good for a first launch!! Its easy to u...       3   \n",
       "2  Google Play  For a brand new app, it's very well optimized....       3   \n",
       "3  Google Play  Great app with a lot of potential! However, th...       3   \n",
       "4  Google Play  The app is good, but it needs a lot of functio...       3   \n",
       "\n",
       "           review_date sentiment_rank  \\\n",
       "0  2023-07-08 14:18:24       negative   \n",
       "1  2023-07-19 20:52:48        neutral   \n",
       "2  2023-07-06 23:03:11        neutral   \n",
       "3  2023-07-10 00:53:25        neutral   \n",
       "4  2023-07-06 16:57:43        neutral   \n",
       "\n",
       "                                       clean_reviews  \\\n",
       "0  Meh Not the greatest experience on a Chromeboo...   \n",
       "1  Pretty good for a first launch Its easy to use...   \n",
       "2  For a brand new app it s very well optimized H...   \n",
       "3  Great app with a lot of potential However ther...   \n",
       "4  The app is good but it needs a lot of function...   \n",
       "\n",
       "                                          POS_tagged  \\\n",
       "0  [(Meh, n), (greatest, a), (experience, n), (Ch...   \n",
       "1  [(Pretty, r), (good, a), (first, a), (launch, ...   \n",
       "2  [(brand, n), (new, a), (app, n), (well, r), (o...   \n",
       "3  [(Great, n), (app, n), (lot, n), (potential, a...   \n",
       "4  [(app, n), (good, a), (needs, v), (lot, n), (f...   \n",
       "\n",
       "                                               lemma  word_count  char_count  \n",
       "0    Meh great experience Chromebook Seems custom...          85         465  \n",
       "1    Pretty good first launch easy use self expla...          81         475  \n",
       "2    brand new app well optimize However miss qui...          91         497  \n",
       "3    Great app lot potential However lot need fix...          94         487  \n",
       "4    app good need lot functionality example sear...          79         426  "
      ]
     },
     "execution_count": 29,
     "metadata": {},
     "output_type": "execute_result"
    }
   ],
   "source": [
    "# Count the number of words in each review\n",
    "df_eda['word_count'] = df['review_description'].apply(lambda x: len(str(x).split(\" \")))\n",
    "\n",
    "# Count the number of characters in each review (including spaces)\n",
    "df_eda['char_count'] = df['review_description'].str.len()  # This also counts spaces\n",
    "\n",
    "df_eda.head()"
   ]
  },
  {
   "cell_type": "code",
   "execution_count": 30,
   "metadata": {},
   "outputs": [
    {
     "name": "stdout",
     "output_type": "stream",
     "text": [
      "Correlation_word between review word length and rating: -0.20896004483929037\n"
     ]
    }
   ],
   "source": [
    "# Calculate correlation\n",
    "correlation_word = df_eda['rating'].corr(df_eda['word_count'])\n",
    "print(f\"Correlation_word between review word length and rating: {correlation_word}\")"
   ]
  },
  {
   "cell_type": "code",
   "execution_count": 31,
   "metadata": {},
   "outputs": [
    {
     "name": "stdout",
     "output_type": "stream",
     "text": [
      "Correlation between review characters length and rating: -0.20896004483929037\n"
     ]
    }
   ],
   "source": [
    "# Calculate correlation\n",
    "correlation_chars = df_eda['rating'].corr(df_eda['word_count'])\n",
    "print(f\"Correlation between review characters length and rating: {correlation_chars}\")"
   ]
  },
  {
   "cell_type": "code",
   "execution_count": 32,
   "metadata": {},
   "outputs": [
    {
     "data": {
      "image/png": "[encoded data removed]",
      "text/plain": [
       "<Figure size 720x432 with 1 Axes>"
      ]
     },
     "metadata": {
      "needs_background": "light"
     },
     "output_type": "display_data"
    }
   ],
   "source": [
    "# Create a scatter plot of review length vs. rating\n",
    "plt.figure(figsize=(10,6))\n",
    "sns.scatterplot(x=df_eda['word_count'], y=df_eda['rating'])\n",
    "\n",
    "# Set the title and labels of the plot\n",
    "plt.title('Scatterplot of Review Length vs. Rating')\n",
    "plt.xlabel('Review Length (Word Count)')\n",
    "plt.ylabel('Rating')\n",
    "\n",
    "# Display the plot\n",
    "plt.show()"
   ]
  },
  {
   "cell_type": "markdown",
   "metadata": {},
   "source": [
    "The correlation coeffictient indicates a weak negative correlation between the review word length and rating. In the context of this dataset, this would suggest that as the length of the review increases, the rating tends to be slightly lower.     \n",
    "\n",
    "It could be that users who have more negative experiences or issues are more likely to write longer reviews to express their dissatisfaction or to describe the problems they faced."
   ]
  },
  {
   "cell_type": "code",
   "execution_count": 33,
   "metadata": {},
   "outputs": [
    {
     "name": "stdout",
     "output_type": "stream",
     "text": [
      "Correlation between review word length and rating for days 8: -0.19932987370264488\n",
      "Correlation between review word length and rating for days 19: -0.22575977809904754\n",
      "Correlation between review word length and rating for days 6: -0.22976163183535184\n",
      "Correlation between review word length and rating for days 10: -0.18661632979518902\n",
      "Correlation between review word length and rating for days 18: -0.13877761382330644\n",
      "Correlation between review word length and rating for days 9: -0.23523242753676105\n",
      "Correlation between review word length and rating for days 7: -0.19986688949913683\n",
      "Correlation between review word length and rating for days 14: -0.1507236857109089\n",
      "Correlation between review word length and rating for days 11: -0.20599692476003653\n",
      "Correlation between review word length and rating for days 15: -0.18035860073059853\n",
      "Correlation between review word length and rating for days 20: -0.05153072149282535\n",
      "Correlation between review word length and rating for days 22: -0.09825824887731485\n",
      "Correlation between review word length and rating for days 13: -0.19426107465842526\n",
      "Correlation between review word length and rating for days 12: -0.234374037718288\n",
      "Correlation between review word length and rating for days 21: -0.13936693481285325\n",
      "Correlation between review word length and rating for days 16: -0.19582618515894715\n",
      "Correlation between review word length and rating for days 23: -0.1626210828306983\n",
      "Correlation between review word length and rating for days 17: -0.18042706141979611\n",
      "Correlation between review word length and rating for days 24: -0.11831632002115047\n",
      "Correlation between review word length and rating for days 25: -0.18788391292725448\n",
      "Correlation between review word length and rating for days 5: -0.2488659131529096\n"
     ]
    }
   ],
   "source": [
    "# Convert the index to datetime, if not already done\n",
    "df_eda['review_date']= pd.to_datetime(df_eda['review_date'])\n",
    "\n",
    "# Let's say you want to compute the correlation for each month\n",
    "df_eda['day'] = df_eda['review_date'].dt.day\n",
    "days = df_eda['day'].unique()\n",
    "for day in days:\n",
    "    df_days = df_eda[df_eda['day'] == day]\n",
    "    correlation = df_days['word_count'].corr(df_days['rating'])\n",
    "    print(f\"Correlation between review word length and rating for days {day}: {correlation}\")"
   ]
  },
  {
   "cell_type": "markdown",
   "metadata": {},
   "source": [
    "From this output, we can see that there's a consistently negative correlation across all days, meaning that longer reviews tend to be associated with lower ratings. However, the strength of the correlation varies by day. For example, it's stronger on day 5 (-0.249) and weaker on day 20 (-0.052).        \n",
    "\n",
    "This variability could be due to various reasons, such as different events or news affecting the user sentiment towards the app on different days."
   ]
  },
  {
   "cell_type": "markdown",
   "metadata": {},
   "source": [
    "## Trends Over Time"
   ]
  },
  {
   "cell_type": "code",
   "execution_count": 34,
   "metadata": {},
   "outputs": [],
   "source": [
    "df_tr = df_eda.copy()"
   ]
  },
  {
   "cell_type": "code",
   "execution_count": 35,
   "metadata": {},
   "outputs": [
    {
     "data": {
      "text/html": [
       "<div>\n",
       "<style scoped>\n",
       "    .dataframe tbody tr th:only-of-type {\n",
       "        vertical-align: middle;\n",
       "    }\n",
       "\n",
       "    .dataframe tbody tr th {\n",
       "        vertical-align: top;\n",
       "    }\n",
       "\n",
       "    .dataframe thead th {\n",
       "        text-align: right;\n",
       "    }\n",
       "</style>\n",
       "<table border=\"1\" class=\"dataframe\">\n",
       "  <thead>\n",
       "    <tr style=\"text-align: right;\">\n",
       "      <th></th>\n",
       "      <th>source</th>\n",
       "      <th>review_description</th>\n",
       "      <th>rating</th>\n",
       "      <th>review_date</th>\n",
       "      <th>sentiment_rank</th>\n",
       "      <th>clean_reviews</th>\n",
       "      <th>POS_tagged</th>\n",
       "      <th>lemma</th>\n",
       "      <th>word_count</th>\n",
       "      <th>char_count</th>\n",
       "      <th>day</th>\n",
       "    </tr>\n",
       "  </thead>\n",
       "  <tbody>\n",
       "    <tr>\n",
       "      <th>0</th>\n",
       "      <td>Google Play</td>\n",
       "      <td>Meh. Not the greatest experience on a Chromebo...</td>\n",
       "      <td>2</td>\n",
       "      <td>2023-07-08 14:18:24</td>\n",
       "      <td>negative</td>\n",
       "      <td>Meh Not the greatest experience on a Chromeboo...</td>\n",
       "      <td>[(Meh, n), (greatest, a), (experience, n), (Ch...</td>\n",
       "      <td>Meh great experience Chromebook Seems custom...</td>\n",
       "      <td>85</td>\n",
       "      <td>465</td>\n",
       "      <td>8</td>\n",
       "    </tr>\n",
       "    <tr>\n",
       "      <th>1</th>\n",
       "      <td>Google Play</td>\n",
       "      <td>Pretty good for a first launch!! Its easy to u...</td>\n",
       "      <td>3</td>\n",
       "      <td>2023-07-19 20:52:48</td>\n",
       "      <td>neutral</td>\n",
       "      <td>Pretty good for a first launch Its easy to use...</td>\n",
       "      <td>[(Pretty, r), (good, a), (first, a), (launch, ...</td>\n",
       "      <td>Pretty good first launch easy use self expla...</td>\n",
       "      <td>81</td>\n",
       "      <td>475</td>\n",
       "      <td>19</td>\n",
       "    </tr>\n",
       "    <tr>\n",
       "      <th>2</th>\n",
       "      <td>Google Play</td>\n",
       "      <td>For a brand new app, it's very well optimized....</td>\n",
       "      <td>3</td>\n",
       "      <td>2023-07-06 23:03:11</td>\n",
       "      <td>neutral</td>\n",
       "      <td>For a brand new app it s very well optimized H...</td>\n",
       "      <td>[(brand, n), (new, a), (app, n), (well, r), (o...</td>\n",
       "      <td>brand new app well optimize However miss qui...</td>\n",
       "      <td>91</td>\n",
       "      <td>497</td>\n",
       "      <td>6</td>\n",
       "    </tr>\n",
       "    <tr>\n",
       "      <th>3</th>\n",
       "      <td>Google Play</td>\n",
       "      <td>Great app with a lot of potential! However, th...</td>\n",
       "      <td>3</td>\n",
       "      <td>2023-07-10 00:53:25</td>\n",
       "      <td>neutral</td>\n",
       "      <td>Great app with a lot of potential However ther...</td>\n",
       "      <td>[(Great, n), (app, n), (lot, n), (potential, a...</td>\n",
       "      <td>Great app lot potential However lot need fix...</td>\n",
       "      <td>94</td>\n",
       "      <td>487</td>\n",
       "      <td>10</td>\n",
       "    </tr>\n",
       "    <tr>\n",
       "      <th>4</th>\n",
       "      <td>Google Play</td>\n",
       "      <td>The app is good, but it needs a lot of functio...</td>\n",
       "      <td>3</td>\n",
       "      <td>2023-07-06 16:57:43</td>\n",
       "      <td>neutral</td>\n",
       "      <td>The app is good but it needs a lot of function...</td>\n",
       "      <td>[(app, n), (good, a), (needs, v), (lot, n), (f...</td>\n",
       "      <td>app good need lot functionality example sear...</td>\n",
       "      <td>79</td>\n",
       "      <td>426</td>\n",
       "      <td>6</td>\n",
       "    </tr>\n",
       "    <tr>\n",
       "      <th>...</th>\n",
       "      <td>...</td>\n",
       "      <td>...</td>\n",
       "      <td>...</td>\n",
       "      <td>...</td>\n",
       "      <td>...</td>\n",
       "      <td>...</td>\n",
       "      <td>...</td>\n",
       "      <td>...</td>\n",
       "      <td>...</td>\n",
       "      <td>...</td>\n",
       "      <td>...</td>\n",
       "    </tr>\n",
       "    <tr>\n",
       "      <th>32905</th>\n",
       "      <td>App Store</td>\n",
       "      <td>This killed my dog. Mark zuckerburg strangled ...</td>\n",
       "      <td>1</td>\n",
       "      <td>2023-07-06 01:23:55</td>\n",
       "      <td>negative</td>\n",
       "      <td>This killed my dog Mark zuckerburg strangled h...</td>\n",
       "      <td>[(killed, v), (dog, n), (Mark, n), (zuckerburg...</td>\n",
       "      <td>kill dog Mark zuckerburg strangle dog go</td>\n",
       "      <td>12</td>\n",
       "      <td>66</td>\n",
       "      <td>6</td>\n",
       "    </tr>\n",
       "    <tr>\n",
       "      <th>32906</th>\n",
       "      <td>App Store</td>\n",
       "      <td>Add Search and hashtag like Twitter !</td>\n",
       "      <td>1</td>\n",
       "      <td>2023-07-19 08:01:06</td>\n",
       "      <td>negative</td>\n",
       "      <td>Add Search and hashtag like Twitter</td>\n",
       "      <td>[(Add, n), (Search, n), (hashtag, n), (like, N...</td>\n",
       "      <td>Add Search hashtag like Twitter</td>\n",
       "      <td>7</td>\n",
       "      <td>37</td>\n",
       "      <td>19</td>\n",
       "    </tr>\n",
       "    <tr>\n",
       "      <th>32907</th>\n",
       "      <td>App Store</td>\n",
       "      <td>bad twister</td>\n",
       "      <td>1</td>\n",
       "      <td>2023-07-17 06:39:13</td>\n",
       "      <td>negative</td>\n",
       "      <td>bad twister</td>\n",
       "      <td>[(bad, a), (twister, n)]</td>\n",
       "      <td>bad twister</td>\n",
       "      <td>2</td>\n",
       "      <td>11</td>\n",
       "      <td>17</td>\n",
       "    </tr>\n",
       "    <tr>\n",
       "      <th>32908</th>\n",
       "      <td>App Store</td>\n",
       "      <td>Yet another trash from Meta.</td>\n",
       "      <td>1</td>\n",
       "      <td>2023-07-07 17:47:16</td>\n",
       "      <td>negative</td>\n",
       "      <td>Yet another trash from Meta</td>\n",
       "      <td>[(Yet, r), (another, None), (trash, n), (Meta,...</td>\n",
       "      <td>Yet another trash Meta</td>\n",
       "      <td>5</td>\n",
       "      <td>28</td>\n",
       "      <td>7</td>\n",
       "    </tr>\n",
       "    <tr>\n",
       "      <th>32909</th>\n",
       "      <td>App Store</td>\n",
       "      <td>Nothing special this app is just a copy of twi...</td>\n",
       "      <td>1</td>\n",
       "      <td>2023-07-07 07:01:43</td>\n",
       "      <td>negative</td>\n",
       "      <td>Nothing special this app is just a copy of twi...</td>\n",
       "      <td>[(Nothing, v), (special, a), (app, n), (copy, ...</td>\n",
       "      <td>Nothing special app copy twitter</td>\n",
       "      <td>10</td>\n",
       "      <td>50</td>\n",
       "      <td>7</td>\n",
       "    </tr>\n",
       "  </tbody>\n",
       "</table>\n",
       "<p>32910 rows × 11 columns</p>\n",
       "</div>"
      ],
      "text/plain": [
       "            source                                 review_description  rating  \\\n",
       "0      Google Play  Meh. Not the greatest experience on a Chromebo...       2   \n",
       "1      Google Play  Pretty good for a first launch!! Its easy to u...       3   \n",
       "2      Google Play  For a brand new app, it's very well optimized....       3   \n",
       "3      Google Play  Great app with a lot of potential! However, th...       3   \n",
       "4      Google Play  The app is good, but it needs a lot of functio...       3   \n",
       "...            ...                                                ...     ...   \n",
       "32905    App Store  This killed my dog. Mark zuckerburg strangled ...       1   \n",
       "32906    App Store              Add Search and hashtag like Twitter !       1   \n",
       "32907    App Store                                        bad twister       1   \n",
       "32908    App Store                       Yet another trash from Meta.       1   \n",
       "32909    App Store  Nothing special this app is just a copy of twi...       1   \n",
       "\n",
       "              review_date sentiment_rank  \\\n",
       "0     2023-07-08 14:18:24       negative   \n",
       "1     2023-07-19 20:52:48        neutral   \n",
       "2     2023-07-06 23:03:11        neutral   \n",
       "3     2023-07-10 00:53:25        neutral   \n",
       "4     2023-07-06 16:57:43        neutral   \n",
       "...                   ...            ...   \n",
       "32905 2023-07-06 01:23:55       negative   \n",
       "32906 2023-07-19 08:01:06       negative   \n",
       "32907 2023-07-17 06:39:13       negative   \n",
       "32908 2023-07-07 17:47:16       negative   \n",
       "32909 2023-07-07 07:01:43       negative   \n",
       "\n",
       "                                           clean_reviews  \\\n",
       "0      Meh Not the greatest experience on a Chromeboo...   \n",
       "1      Pretty good for a first launch Its easy to use...   \n",
       "2      For a brand new app it s very well optimized H...   \n",
       "3      Great app with a lot of potential However ther...   \n",
       "4      The app is good but it needs a lot of function...   \n",
       "...                                                  ...   \n",
       "32905  This killed my dog Mark zuckerburg strangled h...   \n",
       "32906               Add Search and hashtag like Twitter    \n",
       "32907                                        bad twister   \n",
       "32908                       Yet another trash from Meta    \n",
       "32909  Nothing special this app is just a copy of twi...   \n",
       "\n",
       "                                              POS_tagged  \\\n",
       "0      [(Meh, n), (greatest, a), (experience, n), (Ch...   \n",
       "1      [(Pretty, r), (good, a), (first, a), (launch, ...   \n",
       "2      [(brand, n), (new, a), (app, n), (well, r), (o...   \n",
       "3      [(Great, n), (app, n), (lot, n), (potential, a...   \n",
       "4      [(app, n), (good, a), (needs, v), (lot, n), (f...   \n",
       "...                                                  ...   \n",
       "32905  [(killed, v), (dog, n), (Mark, n), (zuckerburg...   \n",
       "32906  [(Add, n), (Search, n), (hashtag, n), (like, N...   \n",
       "32907                           [(bad, a), (twister, n)]   \n",
       "32908  [(Yet, r), (another, None), (trash, n), (Meta,...   \n",
       "32909  [(Nothing, v), (special, a), (app, n), (copy, ...   \n",
       "\n",
       "                                                   lemma  word_count  \\\n",
       "0        Meh great experience Chromebook Seems custom...          85   \n",
       "1        Pretty good first launch easy use self expla...          81   \n",
       "2        brand new app well optimize However miss qui...          91   \n",
       "3        Great app lot potential However lot need fix...          94   \n",
       "4        app good need lot functionality example sear...          79   \n",
       "...                                                  ...         ...   \n",
       "32905           kill dog Mark zuckerburg strangle dog go          12   \n",
       "32906                    Add Search hashtag like Twitter           7   \n",
       "32907                                        bad twister           2   \n",
       "32908                             Yet another trash Meta           5   \n",
       "32909                   Nothing special app copy twitter          10   \n",
       "\n",
       "       char_count  day  \n",
       "0             465    8  \n",
       "1             475   19  \n",
       "2             497    6  \n",
       "3             487   10  \n",
       "4             426    6  \n",
       "...           ...  ...  \n",
       "32905          66    6  \n",
       "32906          37   19  \n",
       "32907          11   17  \n",
       "32908          28    7  \n",
       "32909          50    7  \n",
       "\n",
       "[32910 rows x 11 columns]"
      ]
     },
     "execution_count": 35,
     "metadata": {},
     "output_type": "execute_result"
    }
   ],
   "source": [
    "df_tr"
   ]
  },
  {
   "cell_type": "markdown",
   "metadata": {},
   "source": [
    "### Total Reviews Over Time     "
   ]
  },
  {
   "cell_type": "markdown",
   "metadata": {},
   "source": [
    "Plotting the total number of reviews by day to see how review volume changes."
   ]
  },
  {
   "cell_type": "code",
   "execution_count": 36,
   "metadata": {},
   "outputs": [
    {
     "data": {
      "text/plain": [
       "<AxesSubplot:xlabel='review_date'>"
      ]
     },
     "execution_count": 36,
     "metadata": {},
     "output_type": "execute_result"
    },
    {
     "data": {
      "image/png": "[encoded data removed]",
      "text/plain": [
       "<Figure size 432x288 with 1 Axes>"
      ]
     },
     "metadata": {
      "needs_background": "light"
     },
     "output_type": "display_data"
    }
   ],
   "source": [
    "df_tr['review_date'] = pd.to_datetime(df_tr['review_date']) # ensure the date column is in datetime format\n",
    "df_tr.set_index('review_date', inplace=True) # set the date as the dataframe index\n",
    "df_tr.resample('D').size().plot() # resample by day and plot"
   ]
  },
  {
   "cell_type": "markdown",
   "metadata": {},
   "source": [
    "### Sentiment Over Time"
   ]
  },
  {
   "cell_type": "markdown",
   "metadata": {},
   "source": [
    "Plotting the number (or proportion) of positive, negative, and neutral reviews by day."
   ]
  },
  {
   "cell_type": "code",
   "execution_count": 37,
   "metadata": {},
   "outputs": [
    {
     "data": {
      "text/plain": [
       "<AxesSubplot:xlabel='review_date'>"
      ]
     },
     "execution_count": 37,
     "metadata": {},
     "output_type": "execute_result"
    },
    {
     "data": {
      "image/png": "[encoded data removed]",
      "text/plain": [
       "<Figure size 432x288 with 1 Axes>"
      ]
     },
     "metadata": {
      "needs_background": "light"
     },
     "output_type": "display_data"
    }
   ],
   "source": [
    "df_tr.resample('D')['sentiment_rank'].value_counts().unstack().plot()"
   ]
  },
  {
   "cell_type": "markdown",
   "metadata": {},
   "source": [
    "### Rating Over Time"
   ]
  },
  {
   "cell_type": "markdown",
   "metadata": {},
   "source": [
    "Looking at how the average review rating changes by day."
   ]
  },
  {
   "cell_type": "code",
   "execution_count": 38,
   "metadata": {},
   "outputs": [
    {
     "data": {
      "text/plain": [
       "<AxesSubplot:xlabel='review_date'>"
      ]
     },
     "execution_count": 38,
     "metadata": {},
     "output_type": "execute_result"
    },
    {
     "data": {
      "image/png": "[encoded data removed]",
      "text/plain": [
       "<Figure size 432x288 with 1 Axes>"
      ]
     },
     "metadata": {
      "needs_background": "light"
     },
     "output_type": "display_data"
    }
   ],
   "source": [
    "df_tr.resample('D')['rating'].mean().plot()"
   ]
  },
  {
   "cell_type": "markdown",
   "metadata": {},
   "source": [
    "# Word counts, bigrams, and trigrams"
   ]
  },
  {
   "cell_type": "markdown",
   "metadata": {},
   "source": [
    "Exploring word counts, bigrams, and trigrams can provide a deeper insight into what users are saying in the reviews."
   ]
  },
  {
   "cell_type": "code",
   "execution_count": 39,
   "metadata": {},
   "outputs": [
    {
     "data": {
      "text/html": [
       "<div>\n",
       "<style scoped>\n",
       "    .dataframe tbody tr th:only-of-type {\n",
       "        vertical-align: middle;\n",
       "    }\n",
       "\n",
       "    .dataframe tbody tr th {\n",
       "        vertical-align: top;\n",
       "    }\n",
       "\n",
       "    .dataframe thead th {\n",
       "        text-align: right;\n",
       "    }\n",
       "</style>\n",
       "<table border=\"1\" class=\"dataframe\">\n",
       "  <thead>\n",
       "    <tr style=\"text-align: right;\">\n",
       "      <th></th>\n",
       "      <th>source</th>\n",
       "      <th>review_description</th>\n",
       "      <th>rating</th>\n",
       "      <th>review_date</th>\n",
       "      <th>sentiment_rank</th>\n",
       "      <th>clean_reviews</th>\n",
       "      <th>POS_tagged</th>\n",
       "      <th>lemma</th>\n",
       "      <th>word_count</th>\n",
       "      <th>char_count</th>\n",
       "      <th>day</th>\n",
       "    </tr>\n",
       "  </thead>\n",
       "  <tbody>\n",
       "    <tr>\n",
       "      <th>0</th>\n",
       "      <td>Google Play</td>\n",
       "      <td>Meh. Not the greatest experience on a Chromebo...</td>\n",
       "      <td>2</td>\n",
       "      <td>2023-07-08 14:18:24</td>\n",
       "      <td>negative</td>\n",
       "      <td>Meh Not the greatest experience on a Chromeboo...</td>\n",
       "      <td>[(Meh, n), (greatest, a), (experience, n), (Ch...</td>\n",
       "      <td>Meh great experience Chromebook Seems custom...</td>\n",
       "      <td>85</td>\n",
       "      <td>465</td>\n",
       "      <td>8</td>\n",
       "    </tr>\n",
       "    <tr>\n",
       "      <th>1</th>\n",
       "      <td>Google Play</td>\n",
       "      <td>Pretty good for a first launch!! Its easy to u...</td>\n",
       "      <td>3</td>\n",
       "      <td>2023-07-19 20:52:48</td>\n",
       "      <td>neutral</td>\n",
       "      <td>Pretty good for a first launch Its easy to use...</td>\n",
       "      <td>[(Pretty, r), (good, a), (first, a), (launch, ...</td>\n",
       "      <td>Pretty good first launch easy use self expla...</td>\n",
       "      <td>81</td>\n",
       "      <td>475</td>\n",
       "      <td>19</td>\n",
       "    </tr>\n",
       "    <tr>\n",
       "      <th>2</th>\n",
       "      <td>Google Play</td>\n",
       "      <td>For a brand new app, it's very well optimized....</td>\n",
       "      <td>3</td>\n",
       "      <td>2023-07-06 23:03:11</td>\n",
       "      <td>neutral</td>\n",
       "      <td>For a brand new app it s very well optimized H...</td>\n",
       "      <td>[(brand, n), (new, a), (app, n), (well, r), (o...</td>\n",
       "      <td>brand new app well optimize However miss qui...</td>\n",
       "      <td>91</td>\n",
       "      <td>497</td>\n",
       "      <td>6</td>\n",
       "    </tr>\n",
       "    <tr>\n",
       "      <th>3</th>\n",
       "      <td>Google Play</td>\n",
       "      <td>Great app with a lot of potential! However, th...</td>\n",
       "      <td>3</td>\n",
       "      <td>2023-07-10 00:53:25</td>\n",
       "      <td>neutral</td>\n",
       "      <td>Great app with a lot of potential However ther...</td>\n",
       "      <td>[(Great, n), (app, n), (lot, n), (potential, a...</td>\n",
       "      <td>Great app lot potential However lot need fix...</td>\n",
       "      <td>94</td>\n",
       "      <td>487</td>\n",
       "      <td>10</td>\n",
       "    </tr>\n",
       "    <tr>\n",
       "      <th>4</th>\n",
       "      <td>Google Play</td>\n",
       "      <td>The app is good, but it needs a lot of functio...</td>\n",
       "      <td>3</td>\n",
       "      <td>2023-07-06 16:57:43</td>\n",
       "      <td>neutral</td>\n",
       "      <td>The app is good but it needs a lot of function...</td>\n",
       "      <td>[(app, n), (good, a), (needs, v), (lot, n), (f...</td>\n",
       "      <td>app good need lot functionality example sear...</td>\n",
       "      <td>79</td>\n",
       "      <td>426</td>\n",
       "      <td>6</td>\n",
       "    </tr>\n",
       "  </tbody>\n",
       "</table>\n",
       "</div>"
      ],
      "text/plain": [
       "        source                                 review_description  rating  \\\n",
       "0  Google Play  Meh. Not the greatest experience on a Chromebo...       2   \n",
       "1  Google Play  Pretty good for a first launch!! Its easy to u...       3   \n",
       "2  Google Play  For a brand new app, it's very well optimized....       3   \n",
       "3  Google Play  Great app with a lot of potential! However, th...       3   \n",
       "4  Google Play  The app is good, but it needs a lot of functio...       3   \n",
       "\n",
       "          review_date sentiment_rank  \\\n",
       "0 2023-07-08 14:18:24       negative   \n",
       "1 2023-07-19 20:52:48        neutral   \n",
       "2 2023-07-06 23:03:11        neutral   \n",
       "3 2023-07-10 00:53:25        neutral   \n",
       "4 2023-07-06 16:57:43        neutral   \n",
       "\n",
       "                                       clean_reviews  \\\n",
       "0  Meh Not the greatest experience on a Chromeboo...   \n",
       "1  Pretty good for a first launch Its easy to use...   \n",
       "2  For a brand new app it s very well optimized H...   \n",
       "3  Great app with a lot of potential However ther...   \n",
       "4  The app is good but it needs a lot of function...   \n",
       "\n",
       "                                          POS_tagged  \\\n",
       "0  [(Meh, n), (greatest, a), (experience, n), (Ch...   \n",
       "1  [(Pretty, r), (good, a), (first, a), (launch, ...   \n",
       "2  [(brand, n), (new, a), (app, n), (well, r), (o...   \n",
       "3  [(Great, n), (app, n), (lot, n), (potential, a...   \n",
       "4  [(app, n), (good, a), (needs, v), (lot, n), (f...   \n",
       "\n",
       "                                               lemma  word_count  char_count  \\\n",
       "0    Meh great experience Chromebook Seems custom...          85         465   \n",
       "1    Pretty good first launch easy use self expla...          81         475   \n",
       "2    brand new app well optimize However miss qui...          91         497   \n",
       "3    Great app lot potential However lot need fix...          94         487   \n",
       "4    app good need lot functionality example sear...          79         426   \n",
       "\n",
       "   day  \n",
       "0    8  \n",
       "1   19  \n",
       "2    6  \n",
       "3   10  \n",
       "4    6  "
      ]
     },
     "execution_count": 39,
     "metadata": {},
     "output_type": "execute_result"
    }
   ],
   "source": [
    "df_eda.head()"
   ]
  },
  {
   "cell_type": "code",
   "execution_count": 41,
   "metadata": {},
   "outputs": [
    {
     "data": {
      "text/html": [
       "<div>\n",
       "<style scoped>\n",
       "    .dataframe tbody tr th:only-of-type {\n",
       "        vertical-align: middle;\n",
       "    }\n",
       "\n",
       "    .dataframe tbody tr th {\n",
       "        vertical-align: top;\n",
       "    }\n",
       "\n",
       "    .dataframe thead th {\n",
       "        text-align: right;\n",
       "    }\n",
       "</style>\n",
       "<table border=\"1\" class=\"dataframe\">\n",
       "  <thead>\n",
       "    <tr style=\"text-align: right;\">\n",
       "      <th></th>\n",
       "      <th>reviews</th>\n",
       "    </tr>\n",
       "  </thead>\n",
       "  <tbody>\n",
       "    <tr>\n",
       "      <th>0</th>\n",
       "      <td>Meh great experience Chromebook Seems custom...</td>\n",
       "    </tr>\n",
       "    <tr>\n",
       "      <th>1</th>\n",
       "      <td>Pretty good first launch easy use self expla...</td>\n",
       "    </tr>\n",
       "    <tr>\n",
       "      <th>2</th>\n",
       "      <td>brand new app well optimize However miss qui...</td>\n",
       "    </tr>\n",
       "    <tr>\n",
       "      <th>3</th>\n",
       "      <td>Great app lot potential However lot need fix...</td>\n",
       "    </tr>\n",
       "    <tr>\n",
       "      <th>4</th>\n",
       "      <td>app good need lot functionality example sear...</td>\n",
       "    </tr>\n",
       "    <tr>\n",
       "      <th>...</th>\n",
       "      <td>...</td>\n",
       "    </tr>\n",
       "    <tr>\n",
       "      <th>32905</th>\n",
       "      <td>kill dog Mark zuckerburg strangle dog go</td>\n",
       "    </tr>\n",
       "    <tr>\n",
       "      <th>32906</th>\n",
       "      <td>Add Search hashtag like Twitter</td>\n",
       "    </tr>\n",
       "    <tr>\n",
       "      <th>32907</th>\n",
       "      <td>bad twister</td>\n",
       "    </tr>\n",
       "    <tr>\n",
       "      <th>32908</th>\n",
       "      <td>Yet another trash Meta</td>\n",
       "    </tr>\n",
       "    <tr>\n",
       "      <th>32909</th>\n",
       "      <td>Nothing special app copy twitter</td>\n",
       "    </tr>\n",
       "  </tbody>\n",
       "</table>\n",
       "<p>32910 rows × 1 columns</p>\n",
       "</div>"
      ],
      "text/plain": [
       "                                                 reviews\n",
       "0        Meh great experience Chromebook Seems custom...\n",
       "1        Pretty good first launch easy use self expla...\n",
       "2        brand new app well optimize However miss qui...\n",
       "3        Great app lot potential However lot need fix...\n",
       "4        app good need lot functionality example sear...\n",
       "...                                                  ...\n",
       "32905           kill dog Mark zuckerburg strangle dog go\n",
       "32906                    Add Search hashtag like Twitter\n",
       "32907                                        bad twister\n",
       "32908                             Yet another trash Meta\n",
       "32909                   Nothing special app copy twitter\n",
       "\n",
       "[32910 rows x 1 columns]"
      ]
     },
     "execution_count": 41,
     "metadata": {},
     "output_type": "execute_result"
    }
   ],
   "source": [
    "df_w = pd.DataFrame(df_eda['lemma'].tolist(), columns=['reviews'])\n",
    "df_w"
   ]
  },
  {
   "cell_type": "code",
   "execution_count": 42,
   "metadata": {},
   "outputs": [
    {
     "name": "stdout",
     "output_type": "stream",
     "text": [
      "[('app', 10976), ('twitter', 5816), ('good', 5256), ('instagram', 3277), ('like', 3270), ('thread', 2636), ('account', 2560), ('nice', 2272), ('use', 2046), ('post', 1972)]\n"
     ]
    },
    {
     "name": "stderr",
     "output_type": "stream",
     "text": [
      "c:\\Users\\Pandu\\anaconda3\\lib\\site-packages\\sklearn\\utils\\deprecation.py:87: FutureWarning: Function get_feature_names is deprecated; get_feature_names is deprecated in 1.0 and will be removed in 1.2. Please use get_feature_names_out instead.\n",
      "  warnings.warn(msg, category=FutureWarning)\n"
     ]
    }
   ],
   "source": [
    "from sklearn.feature_extraction.text import CountVectorizer\n",
    "\n",
    "# Initiate object to CountVectorizer\n",
    "vectorizer = CountVectorizer()\n",
    "\n",
    "# Transform 'reviews' data to vector\n",
    "X = vectorizer.fit_transform(df_w['reviews'])\n",
    "\n",
    "# Count how many the word appear then sorted descending order\n",
    "word_counts = dict(zip(vectorizer.get_feature_names(), X.sum(axis=0).tolist()[0]))\n",
    "sorted_word_counts = sorted(word_counts.items(), key=lambda x: x[1], reverse=True)\n",
    "\n",
    "# print the top ten the word in terms of appearance in the review for checking\n",
    "print(sorted_word_counts[:10])"
   ]
  },
  {
   "cell_type": "markdown",
   "metadata": {},
   "source": [
    "#### Word Counts"
   ]
  },
  {
   "cell_type": "code",
   "execution_count": 43,
   "metadata": {},
   "outputs": [
    {
     "data": {
      "text/html": [
       "<div>\n",
       "<style scoped>\n",
       "    .dataframe tbody tr th:only-of-type {\n",
       "        vertical-align: middle;\n",
       "    }\n",
       "\n",
       "    .dataframe tbody tr th {\n",
       "        vertical-align: top;\n",
       "    }\n",
       "\n",
       "    .dataframe thead th {\n",
       "        text-align: right;\n",
       "    }\n",
       "</style>\n",
       "<table border=\"1\" class=\"dataframe\">\n",
       "  <thead>\n",
       "    <tr style=\"text-align: right;\">\n",
       "      <th></th>\n",
       "      <th>Word</th>\n",
       "      <th>Frequency</th>\n",
       "    </tr>\n",
       "  </thead>\n",
       "  <tbody>\n",
       "    <tr>\n",
       "      <th>0</th>\n",
       "      <td>app</td>\n",
       "      <td>10976</td>\n",
       "    </tr>\n",
       "    <tr>\n",
       "      <th>1</th>\n",
       "      <td>twitter</td>\n",
       "      <td>5816</td>\n",
       "    </tr>\n",
       "    <tr>\n",
       "      <th>2</th>\n",
       "      <td>good</td>\n",
       "      <td>5256</td>\n",
       "    </tr>\n",
       "    <tr>\n",
       "      <th>3</th>\n",
       "      <td>instagram</td>\n",
       "      <td>3277</td>\n",
       "    </tr>\n",
       "    <tr>\n",
       "      <th>4</th>\n",
       "      <td>like</td>\n",
       "      <td>3270</td>\n",
       "    </tr>\n",
       "    <tr>\n",
       "      <th>...</th>\n",
       "      <td>...</td>\n",
       "      <td>...</td>\n",
       "    </tr>\n",
       "    <tr>\n",
       "      <th>14408</th>\n",
       "      <td>zuuuuuk</td>\n",
       "      <td>1</td>\n",
       "    </tr>\n",
       "    <tr>\n",
       "      <th>14409</th>\n",
       "      <td>zuzck</td>\n",
       "      <td>1</td>\n",
       "    </tr>\n",
       "    <tr>\n",
       "      <th>14410</th>\n",
       "      <td>zuzu</td>\n",
       "      <td>1</td>\n",
       "    </tr>\n",
       "    <tr>\n",
       "      <th>14411</th>\n",
       "      <td>zvijezda</td>\n",
       "      <td>1</td>\n",
       "    </tr>\n",
       "    <tr>\n",
       "      <th>14412</th>\n",
       "      <td>zzz</td>\n",
       "      <td>1</td>\n",
       "    </tr>\n",
       "  </tbody>\n",
       "</table>\n",
       "<p>14413 rows × 2 columns</p>\n",
       "</div>"
      ],
      "text/plain": [
       "            Word  Frequency\n",
       "0            app      10976\n",
       "1        twitter       5816\n",
       "2           good       5256\n",
       "3      instagram       3277\n",
       "4           like       3270\n",
       "...          ...        ...\n",
       "14408    zuuuuuk          1\n",
       "14409      zuzck          1\n",
       "14410       zuzu          1\n",
       "14411   zvijezda          1\n",
       "14412        zzz          1\n",
       "\n",
       "[14413 rows x 2 columns]"
      ]
     },
     "execution_count": 43,
     "metadata": {},
     "output_type": "execute_result"
    }
   ],
   "source": [
    "# Save the list of sorted word count into Pandas dataframe\n",
    "sorted_word_counts = sorted(word_counts.items(), key=lambda x: x[1], reverse=True)\n",
    "df_word_counts = pd.DataFrame(sorted_word_counts, columns=['Word', 'Frequency'])\n",
    "df_word_counts"
   ]
  },
  {
   "cell_type": "markdown",
   "metadata": {},
   "source": [
    "## Exploring the found numbers"
   ]
  },
  {
   "cell_type": "code",
   "execution_count": 44,
   "metadata": {},
   "outputs": [],
   "source": [
    "import re\n",
    "from collections import Counter\n",
    "import pandas as pd\n",
    "import seaborn as sns\n",
    "import matplotlib.pyplot as plt\n",
    "import pandas as pd\n",
    "from nltk import ngrams\n",
    "from collections import Counter"
   ]
  },
  {
   "cell_type": "markdown",
   "metadata": {},
   "source": [
    "#### Bigrams"
   ]
  },
  {
   "cell_type": "code",
   "execution_count": 45,
   "metadata": {},
   "outputs": [
    {
     "data": {
      "text/html": [
       "<div>\n",
       "<style scoped>\n",
       "    .dataframe tbody tr th:only-of-type {\n",
       "        vertical-align: middle;\n",
       "    }\n",
       "\n",
       "    .dataframe tbody tr th {\n",
       "        vertical-align: top;\n",
       "    }\n",
       "\n",
       "    .dataframe thead th {\n",
       "        text-align: right;\n",
       "    }\n",
       "</style>\n",
       "<table border=\"1\" class=\"dataframe\">\n",
       "  <thead>\n",
       "    <tr style=\"text-align: right;\">\n",
       "      <th></th>\n",
       "      <th>Bigram</th>\n",
       "      <th>Frequency</th>\n",
       "    </tr>\n",
       "  </thead>\n",
       "  <tbody>\n",
       "    <tr>\n",
       "      <th>0</th>\n",
       "      <td>good app</td>\n",
       "      <td>835</td>\n",
       "    </tr>\n",
       "    <tr>\n",
       "      <th>1</th>\n",
       "      <td>nice app</td>\n",
       "      <td>661</td>\n",
       "    </tr>\n",
       "    <tr>\n",
       "      <th>2</th>\n",
       "      <td>instagram account</td>\n",
       "      <td>657</td>\n",
       "    </tr>\n",
       "    <tr>\n",
       "      <th>3</th>\n",
       "      <td>people follow</td>\n",
       "      <td>526</td>\n",
       "    </tr>\n",
       "    <tr>\n",
       "      <th>4</th>\n",
       "      <td>like twitter</td>\n",
       "      <td>450</td>\n",
       "    </tr>\n",
       "    <tr>\n",
       "      <th>...</th>\n",
       "      <td>...</td>\n",
       "      <td>...</td>\n",
       "    </tr>\n",
       "    <tr>\n",
       "      <th>100505</th>\n",
       "      <td>zuckerburg strangle</td>\n",
       "      <td>1</td>\n",
       "    </tr>\n",
       "    <tr>\n",
       "      <th>100506</th>\n",
       "      <td>strangle dog</td>\n",
       "      <td>1</td>\n",
       "    </tr>\n",
       "    <tr>\n",
       "      <th>100507</th>\n",
       "      <td>dog go</td>\n",
       "      <td>1</td>\n",
       "    </tr>\n",
       "    <tr>\n",
       "      <th>100508</th>\n",
       "      <td>search hashtag</td>\n",
       "      <td>1</td>\n",
       "    </tr>\n",
       "    <tr>\n",
       "      <th>100509</th>\n",
       "      <td>bad twister</td>\n",
       "      <td>1</td>\n",
       "    </tr>\n",
       "  </tbody>\n",
       "</table>\n",
       "<p>100510 rows × 2 columns</p>\n",
       "</div>"
      ],
      "text/plain": [
       "                     Bigram  Frequency\n",
       "0                  good app        835\n",
       "1                  nice app        661\n",
       "2         instagram account        657\n",
       "3             people follow        526\n",
       "4              like twitter        450\n",
       "...                     ...        ...\n",
       "100505  zuckerburg strangle          1\n",
       "100506         strangle dog          1\n",
       "100507               dog go          1\n",
       "100508       search hashtag          1\n",
       "100509          bad twister          1\n",
       "\n",
       "[100510 rows x 2 columns]"
      ]
     },
     "execution_count": 45,
     "metadata": {},
     "output_type": "execute_result"
    }
   ],
   "source": [
    "# Preprocessing text\n",
    "df_w['clean_reviews'] = df_w['reviews'].apply(\n",
    "    lambda x: re.sub(r'[^\\w\\s]','',x.lower()))\n",
    "\n",
    "# Tokenization\n",
    "df_w['tokens'] = df_w['clean_reviews'].apply(lambda x: x.split())\n",
    "\n",
    "# Bigram\n",
    "df_w['bigrams'] = df_w['tokens'].apply(\n",
    "    lambda x: [x[i] + \" \" + x[i+1] for i in range(len(x)-1)])\n",
    "\n",
    "# Counting bigram frequency\n",
    "bigram_freq = Counter([item for sublist in df_w['bigrams'] for item in sublist])\n",
    "\n",
    "# Creating DataFrame for top 15 bigrams\n",
    "bigrams_df = pd.DataFrame(bigram_freq.most_common(), columns=['Bigram', 'Frequency'])\n",
    "bigrams_df"
   ]
  },
  {
   "cell_type": "markdown",
   "metadata": {},
   "source": [
    "#### Trigrams"
   ]
  },
  {
   "cell_type": "code",
   "execution_count": 46,
   "metadata": {},
   "outputs": [
    {
     "data": {
      "text/html": [
       "<div>\n",
       "<style scoped>\n",
       "    .dataframe tbody tr th:only-of-type {\n",
       "        vertical-align: middle;\n",
       "    }\n",
       "\n",
       "    .dataframe tbody tr th {\n",
       "        vertical-align: top;\n",
       "    }\n",
       "\n",
       "    .dataframe thead th {\n",
       "        text-align: right;\n",
       "    }\n",
       "</style>\n",
       "<table border=\"1\" class=\"dataframe\">\n",
       "  <thead>\n",
       "    <tr style=\"text-align: right;\">\n",
       "      <th></th>\n",
       "      <th>Trigram</th>\n",
       "      <th>Frequency</th>\n",
       "    </tr>\n",
       "  </thead>\n",
       "  <tbody>\n",
       "    <tr>\n",
       "      <th>0</th>\n",
       "      <td>delete Instagram account</td>\n",
       "      <td>100</td>\n",
       "    </tr>\n",
       "    <tr>\n",
       "      <th>1</th>\n",
       "      <td>post people follow</td>\n",
       "      <td>95</td>\n",
       "    </tr>\n",
       "    <tr>\n",
       "      <th>2</th>\n",
       "      <td>delete thread account</td>\n",
       "      <td>91</td>\n",
       "    </tr>\n",
       "    <tr>\n",
       "      <th>3</th>\n",
       "      <td>social medium app</td>\n",
       "      <td>77</td>\n",
       "    </tr>\n",
       "    <tr>\n",
       "      <th>4</th>\n",
       "      <td>something go wrong</td>\n",
       "      <td>73</td>\n",
       "    </tr>\n",
       "    <tr>\n",
       "      <th>...</th>\n",
       "      <td>...</td>\n",
       "      <td>...</td>\n",
       "    </tr>\n",
       "    <tr>\n",
       "      <th>149293</th>\n",
       "      <td>else expect Meta</td>\n",
       "      <td>1</td>\n",
       "    </tr>\n",
       "    <tr>\n",
       "      <th>149294</th>\n",
       "      <td>app else expect</td>\n",
       "      <td>1</td>\n",
       "    </tr>\n",
       "    <tr>\n",
       "      <th>149295</th>\n",
       "      <td>experience app else</td>\n",
       "      <td>1</td>\n",
       "    </tr>\n",
       "    <tr>\n",
       "      <th>149296</th>\n",
       "      <td>becuase afraid miss</td>\n",
       "      <td>1</td>\n",
       "    </tr>\n",
       "    <tr>\n",
       "      <th>149297</th>\n",
       "      <td>special app copy</td>\n",
       "      <td>1</td>\n",
       "    </tr>\n",
       "  </tbody>\n",
       "</table>\n",
       "<p>149298 rows × 2 columns</p>\n",
       "</div>"
      ],
      "text/plain": [
       "                         Trigram  Frequency\n",
       "0       delete Instagram account        100\n",
       "1             post people follow         95\n",
       "2          delete thread account         91\n",
       "3              social medium app         77\n",
       "4             something go wrong         73\n",
       "...                          ...        ...\n",
       "149293          else expect Meta          1\n",
       "149294           app else expect          1\n",
       "149295       experience app else          1\n",
       "149296       becuase afraid miss          1\n",
       "149297          special app copy          1\n",
       "\n",
       "[149298 rows x 2 columns]"
      ]
     },
     "execution_count": 46,
     "metadata": {},
     "output_type": "execute_result"
    }
   ],
   "source": [
    "# create trigrams\n",
    "trigrams_list = []\n",
    "for review in df_w['reviews']:\n",
    "    review_trigrams = ngrams(review.split(), 3)\n",
    "    trigrams_list.extend(review_trigrams)\n",
    "\n",
    "# count trigrams and create dataframe\n",
    "trigrams_counts = Counter(trigrams_list)\n",
    "trigrams_df = pd.DataFrame.from_dict(trigrams_counts, orient='index', columns=['Frequency'])\n",
    "trigrams_df.index = trigrams_df.index.map(' '.join)\n",
    "trigrams_df.index.name = 'Trigram'\n",
    "trigrams_df = trigrams_df.reset_index()\n",
    "\n",
    "# sort by frequency\n",
    "trigrams_df = trigrams_df.sort_values('Frequency', ascending=False)\n",
    "\n",
    "# reset index\n",
    "trigrams_df = trigrams_df.reset_index(drop=True)\n",
    "trigrams_df"
   ]
  },
  {
   "cell_type": "markdown",
   "metadata": {},
   "source": [
    "### Visualizing Word Count, Bigrams, and Trigrams"
   ]
  },
  {
   "cell_type": "code",
   "execution_count": null,
   "metadata": {},
   "outputs": [],
   "source": [
    "import seaborn as sns\n",
    "import matplotlib.pyplot as plt\n",
    "sns.set_style('ticks') # set background color to white\n",
    "sns.set_palette('pastel') # set palette color to 'pastel'"
   ]
  },
  {
   "cell_type": "code",
   "execution_count": 49,
   "metadata": {},
   "outputs": [
    {
     "data": {
      "image/png": "[encoded data removed]",
      "text/plain": [
       "<Figure size 1224x648 with 3 Axes>"
      ]
     },
     "metadata": {},
     "output_type": "display_data"
    }
   ],
   "source": [
    "plt.figure(figsize=(17,9))\n",
    "\n",
    "# Data frame word counts for first plot\n",
    "plt.subplot(1, 3, 1)\n",
    "plt.barh(df_word_counts['Word'][:10], df_word_counts['Frequency'][:10])\n",
    "plt.gca().invert_yaxis() # split y axis to visualize from the bigger frequency\n",
    "plt.title('Word Counts')\n",
    "\n",
    "# Data frame bigram for 2nd plot\n",
    "plt.subplot(1, 3, 2)\n",
    "plt.barh(bigrams_df['Bigram'][:10], bigrams_df['Frequency'][:10])\n",
    "plt.gca().invert_yaxis() # split y axis to visualize from the bigger frequency\n",
    "plt.title('Bigrams')\n",
    "\n",
    "# Data frame trigram for the last plot\n",
    "plt.subplot(1, 3, 3)\n",
    "plt.barh(trigrams_df['Trigram'][:10], trigrams_df['Frequency'][:10])\n",
    "plt.gca().invert_yaxis() # split y axis to visualize from the bigger frequency\n",
    "plt.title('Trigrams')\n",
    "plt.tight_layout() # making distance between sub plot\n",
    "\n",
    "\n",
    "plt.show()"
   ]
  },
  {
   "cell_type": "code",
   "execution_count": 50,
   "metadata": {},
   "outputs": [
    {
     "data": {
      "image/png": "[encoded data removed]",
      "text/plain": [
       "<Figure size 1296x720 with 3 Axes>"
      ]
     },
     "metadata": {},
     "output_type": "display_data"
    }
   ],
   "source": [
    "# setting how many rows or data will be visualized\n",
    "top_words = df_word_counts.nlargest(10, 'Frequency')\n",
    "top_bigrams = bigrams_df.nlargest(10, 'Frequency')\n",
    "top_trigrams = trigrams_df.nlargest(10, 'Frequency')\n",
    "\n",
    "# Create figure\n",
    "plt.figure(figsize=(18,10))\n",
    "sns.set_style(\"whitegrid\", {'grid.linestyle': '--', 'alpha': 0.5})\n",
    "\n",
    "# Data frame word counts for first plot\n",
    "plt.subplot(1, 3, 1)\n",
    "sns.barplot(x='Frequency', y='Word', data=top_words, palette= sns.color_palette(\"Blues_d\", n_colors=15)[::-1])\n",
    "plt.ylabel('Word', fontsize=14)\n",
    "plt.xlabel('Frequency', fontsize=14)\n",
    "plt.title('Top 15 Words in Reviews', fontsize=16)\n",
    "\n",
    "# Give anotation number for every bar\n",
    "for i, v in enumerate(top_words['Frequency']):\n",
    "    plt.text(v + 0.5, i, str(v), color='black', fontsize=10)\n",
    "\n",
    "# Barplot for bigram\n",
    "plt.subplot(1, 3, 2)\n",
    "sns.barplot(x='Frequency', y='Bigram', data=top_bigrams, palette= sns.color_palette(\"Oranges_d\", n_colors=15)[::-1])\n",
    "plt.ylabel('Bigram', fontsize=14)\n",
    "plt.xlabel('Frequency', fontsize=14)\n",
    "plt.title('Top 15 Bigrams in Reviews', fontsize=16)\n",
    "\n",
    "# Give anotation number for every bar\n",
    "for i, v in enumerate(top_bigrams['Frequency']):\n",
    "    plt.text(v + 0.5, i, str(v), color='black', fontsize=10)\n",
    "\n",
    "# Barplot for trigram\n",
    "plt.subplot(1, 3, 3)\n",
    "sns.barplot(x='Frequency', y='Trigram', data=top_trigrams, palette= sns.color_palette(\"Greens_d\", n_colors=15)[::-1])\n",
    "plt.ylabel('Trigram', fontsize=14)\n",
    "plt.xlabel('Frequency', fontsize=14)\n",
    "plt.title('Top 15 Trigrams in Reviews', fontsize=16)\n",
    "\n",
    "# Give anotation number for every bar\n",
    "for i, v in enumerate(top_trigrams['Frequency']):\n",
    "    plt.text(v + 0.5, i, str(v), color='black', fontsize=10)\n",
    "    \n",
    "plt.tight_layout() # making distance between sub plot\n",
    "\n",
    "plt.show()"
   ]
  }
 ],
 "metadata": {
  "kernelspec": {
   "display_name": "base",
   "language": "python",
   "name": "python3"
  },
  "language_info": {
   "codemirror_mode": {
    "name": "ipython",
    "version": 3
   },
   "file_extension": ".py",
   "mimetype": "text/x-python",
   "name": "python",
   "nbconvert_exporter": "python",
   "pygments_lexer": "ipython3",
   "version": "3.9.12"
  },
  "orig_nbformat": 4
 },
 "nbformat": 4,
 "nbformat_minor": 2
}
